{
  "nbformat": 4,
  "nbformat_minor": 0,
  "metadata": {
    "colab": {
      "provenance": [],
      "collapsed_sections": [],
      "include_colab_link": true
    },
    "kernelspec": {
      "name": "python3",
      "display_name": "Python 3"
    },
    "language_info": {
      "name": "python"
    }
  },
  "cells": [
    {
      "cell_type": "markdown",
      "metadata": {
        "id": "view-in-github",
        "colab_type": "text"
      },
      "source": [
        "<a href=\"https://colab.research.google.com/github/sha256burim/Implementation-of-TensorFlow-Fast-GAN-Neural-Style-Transfer/blob/main/Regression_DMD_XPRO.ipynb\" target=\"_parent\"><img src=\"https://colab.research.google.com/assets/colab-badge.svg\" alt=\"Open In Colab\"/></a>"
      ]
    },
    {
      "cell_type": "markdown",
      "source": [
        "Lets start with importing what we need... "
      ],
      "metadata": {
        "id": "4cIBEMVuA5-9"
      }
    },
    {
      "cell_type": "code",
      "source": [
        "!pip install skimpy"
      ],
      "metadata": {
        "id": "N2w8U7N7PkMn"
      },
      "execution_count": null,
      "outputs": []
    },
    {
      "cell_type": "code",
      "execution_count": null,
      "metadata": {
        "id": "G8bltmBFJYz0"
      },
      "outputs": [],
      "source": [
        "#imports\n",
        "import numpy as np\n",
        "import pandas as pd\n",
        "import matplotlib.pyplot as plt\n",
        "import statsmodels.api as sm\n",
        "from statsmodels.formula.api import ols\n",
        "from scipy.stats import norm\n",
        "from skimpy import skim\n",
        "from sklearn.model_selection import train_test_split\n",
        "from sklearn.metrics import r2_score\n",
        "from sklearn import datasets"
      ]
    },
    {
      "cell_type": "markdown",
      "source": [
        "Lets read in the data into a Pandas 'dataframe'. We'll see that this is a nifty datastruture. We'll take a look at the data frame shortly. "
      ],
      "metadata": {
        "id": "ECRJiTWPBAKi"
      }
    },
    {
      "cell_type": "code",
      "source": [
        "df = pd.read_csv('/content/drive/MyDrive/XPro/rentals_weather.csv')"
      ],
      "metadata": {
        "id": "n38gY_0gJivd",
        "outputId": "a1a231d9-4a10-4e96-aad8-fd2a1eccb688",
        "colab": {
          "base_uri": "https://localhost:8080/",
          "height": 165
        }
      },
      "execution_count": null,
      "outputs": [
        {
          "output_type": "error",
          "ename": "NameError",
          "evalue": "ignored",
          "traceback": [
            "\u001b[0;31m---------------------------------------------------------------------------\u001b[0m",
            "\u001b[0;31mNameError\u001b[0m                                 Traceback (most recent call last)",
            "\u001b[0;32m<ipython-input-1-bd04633947d4>\u001b[0m in \u001b[0;36m<module>\u001b[0;34m()\u001b[0m\n\u001b[0;32m----> 1\u001b[0;31m \u001b[0mdf\u001b[0m \u001b[0;34m=\u001b[0m \u001b[0mpd\u001b[0m\u001b[0;34m.\u001b[0m\u001b[0mread_csv\u001b[0m\u001b[0;34m(\u001b[0m\u001b[0;34m'/content/drive/MyDrive/XPro/rentals_weather.csv'\u001b[0m\u001b[0;34m)\u001b[0m\u001b[0;34m\u001b[0m\u001b[0;34m\u001b[0m\u001b[0m\n\u001b[0m",
            "\u001b[0;31mNameError\u001b[0m: name 'pd' is not defined"
          ]
        }
      ]
    },
    {
      "cell_type": "code",
      "source": [
        "df.head(6)"
      ],
      "metadata": {
        "id": "dA0BhU6gJ5cj",
        "colab": {
          "base_uri": "https://localhost:8080/",
          "height": 237
        },
        "outputId": "c8be8b07-2257-4d81-e71e-e6981bb44b49"
      },
      "execution_count": null,
      "outputs": [
        {
          "output_type": "execute_result",
          "data": {
            "text/plain": [
              "   rentals  month  day  hour day_of_week  weekend  temp  temp_wb  \\\n",
              "0        4      1    1     0         Mon        0     2        0   \n",
              "1        6      1    1     1         Mon        0     1        0   \n",
              "2        6      1    1     2         Mon        0     1       -1   \n",
              "3        1      1    1     5         Mon        0     0       -2   \n",
              "4        3      1    1     6         Mon        0     0       -2   \n",
              "5        3      1    1     7         Mon        0     0       -2   \n",
              "\n",
              "   rel_humidity  windspeed  precipitation  \n",
              "0            59         16            0.0  \n",
              "1            59         11            0.0  \n",
              "2            54         21            0.0  \n",
              "3            54         18            0.0  \n",
              "4            54         15            0.0  \n",
              "5            54         11            0.0  "
            ],
            "text/html": [
              "\n",
              "  <div id=\"df-0fe085fb-0b5e-4dbd-bb89-f2dba19bd56c\">\n",
              "    <div class=\"colab-df-container\">\n",
              "      <div>\n",
              "<style scoped>\n",
              "    .dataframe tbody tr th:only-of-type {\n",
              "        vertical-align: middle;\n",
              "    }\n",
              "\n",
              "    .dataframe tbody tr th {\n",
              "        vertical-align: top;\n",
              "    }\n",
              "\n",
              "    .dataframe thead th {\n",
              "        text-align: right;\n",
              "    }\n",
              "</style>\n",
              "<table border=\"1\" class=\"dataframe\">\n",
              "  <thead>\n",
              "    <tr style=\"text-align: right;\">\n",
              "      <th></th>\n",
              "      <th>rentals</th>\n",
              "      <th>month</th>\n",
              "      <th>day</th>\n",
              "      <th>hour</th>\n",
              "      <th>day_of_week</th>\n",
              "      <th>weekend</th>\n",
              "      <th>temp</th>\n",
              "      <th>temp_wb</th>\n",
              "      <th>rel_humidity</th>\n",
              "      <th>windspeed</th>\n",
              "      <th>precipitation</th>\n",
              "    </tr>\n",
              "  </thead>\n",
              "  <tbody>\n",
              "    <tr>\n",
              "      <th>0</th>\n",
              "      <td>4</td>\n",
              "      <td>1</td>\n",
              "      <td>1</td>\n",
              "      <td>0</td>\n",
              "      <td>Mon</td>\n",
              "      <td>0</td>\n",
              "      <td>2</td>\n",
              "      <td>0</td>\n",
              "      <td>59</td>\n",
              "      <td>16</td>\n",
              "      <td>0.0</td>\n",
              "    </tr>\n",
              "    <tr>\n",
              "      <th>1</th>\n",
              "      <td>6</td>\n",
              "      <td>1</td>\n",
              "      <td>1</td>\n",
              "      <td>1</td>\n",
              "      <td>Mon</td>\n",
              "      <td>0</td>\n",
              "      <td>1</td>\n",
              "      <td>0</td>\n",
              "      <td>59</td>\n",
              "      <td>11</td>\n",
              "      <td>0.0</td>\n",
              "    </tr>\n",
              "    <tr>\n",
              "      <th>2</th>\n",
              "      <td>6</td>\n",
              "      <td>1</td>\n",
              "      <td>1</td>\n",
              "      <td>2</td>\n",
              "      <td>Mon</td>\n",
              "      <td>0</td>\n",
              "      <td>1</td>\n",
              "      <td>-1</td>\n",
              "      <td>54</td>\n",
              "      <td>21</td>\n",
              "      <td>0.0</td>\n",
              "    </tr>\n",
              "    <tr>\n",
              "      <th>3</th>\n",
              "      <td>1</td>\n",
              "      <td>1</td>\n",
              "      <td>1</td>\n",
              "      <td>5</td>\n",
              "      <td>Mon</td>\n",
              "      <td>0</td>\n",
              "      <td>0</td>\n",
              "      <td>-2</td>\n",
              "      <td>54</td>\n",
              "      <td>18</td>\n",
              "      <td>0.0</td>\n",
              "    </tr>\n",
              "    <tr>\n",
              "      <th>4</th>\n",
              "      <td>3</td>\n",
              "      <td>1</td>\n",
              "      <td>1</td>\n",
              "      <td>6</td>\n",
              "      <td>Mon</td>\n",
              "      <td>0</td>\n",
              "      <td>0</td>\n",
              "      <td>-2</td>\n",
              "      <td>54</td>\n",
              "      <td>15</td>\n",
              "      <td>0.0</td>\n",
              "    </tr>\n",
              "    <tr>\n",
              "      <th>5</th>\n",
              "      <td>3</td>\n",
              "      <td>1</td>\n",
              "      <td>1</td>\n",
              "      <td>7</td>\n",
              "      <td>Mon</td>\n",
              "      <td>0</td>\n",
              "      <td>0</td>\n",
              "      <td>-2</td>\n",
              "      <td>54</td>\n",
              "      <td>11</td>\n",
              "      <td>0.0</td>\n",
              "    </tr>\n",
              "  </tbody>\n",
              "</table>\n",
              "</div>\n",
              "      <button class=\"colab-df-convert\" onclick=\"convertToInteractive('df-0fe085fb-0b5e-4dbd-bb89-f2dba19bd56c')\"\n",
              "              title=\"Convert this dataframe to an interactive table.\"\n",
              "              style=\"display:none;\">\n",
              "        \n",
              "  <svg xmlns=\"http://www.w3.org/2000/svg\" height=\"24px\"viewBox=\"0 0 24 24\"\n",
              "       width=\"24px\">\n",
              "    <path d=\"M0 0h24v24H0V0z\" fill=\"none\"/>\n",
              "    <path d=\"M18.56 5.44l.94 2.06.94-2.06 2.06-.94-2.06-.94-.94-2.06-.94 2.06-2.06.94zm-11 1L8.5 8.5l.94-2.06 2.06-.94-2.06-.94L8.5 2.5l-.94 2.06-2.06.94zm10 10l.94 2.06.94-2.06 2.06-.94-2.06-.94-.94-2.06-.94 2.06-2.06.94z\"/><path d=\"M17.41 7.96l-1.37-1.37c-.4-.4-.92-.59-1.43-.59-.52 0-1.04.2-1.43.59L10.3 9.45l-7.72 7.72c-.78.78-.78 2.05 0 2.83L4 21.41c.39.39.9.59 1.41.59.51 0 1.02-.2 1.41-.59l7.78-7.78 2.81-2.81c.8-.78.8-2.07 0-2.86zM5.41 20L4 18.59l7.72-7.72 1.47 1.35L5.41 20z\"/>\n",
              "  </svg>\n",
              "      </button>\n",
              "      \n",
              "  <style>\n",
              "    .colab-df-container {\n",
              "      display:flex;\n",
              "      flex-wrap:wrap;\n",
              "      gap: 12px;\n",
              "    }\n",
              "\n",
              "    .colab-df-convert {\n",
              "      background-color: #E8F0FE;\n",
              "      border: none;\n",
              "      border-radius: 50%;\n",
              "      cursor: pointer;\n",
              "      display: none;\n",
              "      fill: #1967D2;\n",
              "      height: 32px;\n",
              "      padding: 0 0 0 0;\n",
              "      width: 32px;\n",
              "    }\n",
              "\n",
              "    .colab-df-convert:hover {\n",
              "      background-color: #E2EBFA;\n",
              "      box-shadow: 0px 1px 2px rgba(60, 64, 67, 0.3), 0px 1px 3px 1px rgba(60, 64, 67, 0.15);\n",
              "      fill: #174EA6;\n",
              "    }\n",
              "\n",
              "    [theme=dark] .colab-df-convert {\n",
              "      background-color: #3B4455;\n",
              "      fill: #D2E3FC;\n",
              "    }\n",
              "\n",
              "    [theme=dark] .colab-df-convert:hover {\n",
              "      background-color: #434B5C;\n",
              "      box-shadow: 0px 1px 3px 1px rgba(0, 0, 0, 0.15);\n",
              "      filter: drop-shadow(0px 1px 2px rgba(0, 0, 0, 0.3));\n",
              "      fill: #FFFFFF;\n",
              "    }\n",
              "  </style>\n",
              "\n",
              "      <script>\n",
              "        const buttonEl =\n",
              "          document.querySelector('#df-0fe085fb-0b5e-4dbd-bb89-f2dba19bd56c button.colab-df-convert');\n",
              "        buttonEl.style.display =\n",
              "          google.colab.kernel.accessAllowed ? 'block' : 'none';\n",
              "\n",
              "        async function convertToInteractive(key) {\n",
              "          const element = document.querySelector('#df-0fe085fb-0b5e-4dbd-bb89-f2dba19bd56c');\n",
              "          const dataTable =\n",
              "            await google.colab.kernel.invokeFunction('convertToInteractive',\n",
              "                                                     [key], {});\n",
              "          if (!dataTable) return;\n",
              "\n",
              "          const docLinkHtml = 'Like what you see? Visit the ' +\n",
              "            '<a target=\"_blank\" href=https://colab.research.google.com/notebooks/data_table.ipynb>data table notebook</a>'\n",
              "            + ' to learn more about interactive tables.';\n",
              "          element.innerHTML = '';\n",
              "          dataTable['output_type'] = 'display_data';\n",
              "          await google.colab.output.renderOutput(dataTable, element);\n",
              "          const docLink = document.createElement('div');\n",
              "          docLink.innerHTML = docLinkHtml;\n",
              "          element.appendChild(docLink);\n",
              "        }\n",
              "      </script>\n",
              "    </div>\n",
              "  </div>\n",
              "  "
            ]
          },
          "metadata": {},
          "execution_count": 5
        }
      ]
    },
    {
      "cell_type": "code",
      "source": [
        "df.tail(6)"
      ],
      "metadata": {
        "colab": {
          "base_uri": "https://localhost:8080/",
          "height": 237
        },
        "id": "kFs4HfoRJ9oQ",
        "outputId": "02da9836-29c5-4e60-b81e-7efdfbfcfc34"
      },
      "execution_count": null,
      "outputs": [
        {
          "output_type": "execute_result",
          "data": {
            "text/plain": [
              "      rentals  month  day  hour day_of_week  weekend  temp  temp_wb  \\\n",
              "8597       69     12   31    18         Mon        0    42       37   \n",
              "8598       36     12   31    19         Mon        0    39       36   \n",
              "8599       25     12   31    20         Mon        0    38       36   \n",
              "8600       13     12   31    21         Mon        0    37       36   \n",
              "8601        6     12   31    22         Mon        0    38       37   \n",
              "8602        7     12   31    23         Mon        0    39       38   \n",
              "\n",
              "      rel_humidity  windspeed  precipitation  \n",
              "8597            60         10           0.00  \n",
              "8598            76         13           0.02  \n",
              "8599            86         14           0.04  \n",
              "8600            89         15           0.07  \n",
              "8601            89         14           0.09  \n",
              "8602            89         17           0.19  "
            ],
            "text/html": [
              "\n",
              "  <div id=\"df-42c5cf5c-0b8f-4fd8-8763-927a189243f6\">\n",
              "    <div class=\"colab-df-container\">\n",
              "      <div>\n",
              "<style scoped>\n",
              "    .dataframe tbody tr th:only-of-type {\n",
              "        vertical-align: middle;\n",
              "    }\n",
              "\n",
              "    .dataframe tbody tr th {\n",
              "        vertical-align: top;\n",
              "    }\n",
              "\n",
              "    .dataframe thead th {\n",
              "        text-align: right;\n",
              "    }\n",
              "</style>\n",
              "<table border=\"1\" class=\"dataframe\">\n",
              "  <thead>\n",
              "    <tr style=\"text-align: right;\">\n",
              "      <th></th>\n",
              "      <th>rentals</th>\n",
              "      <th>month</th>\n",
              "      <th>day</th>\n",
              "      <th>hour</th>\n",
              "      <th>day_of_week</th>\n",
              "      <th>weekend</th>\n",
              "      <th>temp</th>\n",
              "      <th>temp_wb</th>\n",
              "      <th>rel_humidity</th>\n",
              "      <th>windspeed</th>\n",
              "      <th>precipitation</th>\n",
              "    </tr>\n",
              "  </thead>\n",
              "  <tbody>\n",
              "    <tr>\n",
              "      <th>8597</th>\n",
              "      <td>69</td>\n",
              "      <td>12</td>\n",
              "      <td>31</td>\n",
              "      <td>18</td>\n",
              "      <td>Mon</td>\n",
              "      <td>0</td>\n",
              "      <td>42</td>\n",
              "      <td>37</td>\n",
              "      <td>60</td>\n",
              "      <td>10</td>\n",
              "      <td>0.00</td>\n",
              "    </tr>\n",
              "    <tr>\n",
              "      <th>8598</th>\n",
              "      <td>36</td>\n",
              "      <td>12</td>\n",
              "      <td>31</td>\n",
              "      <td>19</td>\n",
              "      <td>Mon</td>\n",
              "      <td>0</td>\n",
              "      <td>39</td>\n",
              "      <td>36</td>\n",
              "      <td>76</td>\n",
              "      <td>13</td>\n",
              "      <td>0.02</td>\n",
              "    </tr>\n",
              "    <tr>\n",
              "      <th>8599</th>\n",
              "      <td>25</td>\n",
              "      <td>12</td>\n",
              "      <td>31</td>\n",
              "      <td>20</td>\n",
              "      <td>Mon</td>\n",
              "      <td>0</td>\n",
              "      <td>38</td>\n",
              "      <td>36</td>\n",
              "      <td>86</td>\n",
              "      <td>14</td>\n",
              "      <td>0.04</td>\n",
              "    </tr>\n",
              "    <tr>\n",
              "      <th>8600</th>\n",
              "      <td>13</td>\n",
              "      <td>12</td>\n",
              "      <td>31</td>\n",
              "      <td>21</td>\n",
              "      <td>Mon</td>\n",
              "      <td>0</td>\n",
              "      <td>37</td>\n",
              "      <td>36</td>\n",
              "      <td>89</td>\n",
              "      <td>15</td>\n",
              "      <td>0.07</td>\n",
              "    </tr>\n",
              "    <tr>\n",
              "      <th>8601</th>\n",
              "      <td>6</td>\n",
              "      <td>12</td>\n",
              "      <td>31</td>\n",
              "      <td>22</td>\n",
              "      <td>Mon</td>\n",
              "      <td>0</td>\n",
              "      <td>38</td>\n",
              "      <td>37</td>\n",
              "      <td>89</td>\n",
              "      <td>14</td>\n",
              "      <td>0.09</td>\n",
              "    </tr>\n",
              "    <tr>\n",
              "      <th>8602</th>\n",
              "      <td>7</td>\n",
              "      <td>12</td>\n",
              "      <td>31</td>\n",
              "      <td>23</td>\n",
              "      <td>Mon</td>\n",
              "      <td>0</td>\n",
              "      <td>39</td>\n",
              "      <td>38</td>\n",
              "      <td>89</td>\n",
              "      <td>17</td>\n",
              "      <td>0.19</td>\n",
              "    </tr>\n",
              "  </tbody>\n",
              "</table>\n",
              "</div>\n",
              "      <button class=\"colab-df-convert\" onclick=\"convertToInteractive('df-42c5cf5c-0b8f-4fd8-8763-927a189243f6')\"\n",
              "              title=\"Convert this dataframe to an interactive table.\"\n",
              "              style=\"display:none;\">\n",
              "        \n",
              "  <svg xmlns=\"http://www.w3.org/2000/svg\" height=\"24px\"viewBox=\"0 0 24 24\"\n",
              "       width=\"24px\">\n",
              "    <path d=\"M0 0h24v24H0V0z\" fill=\"none\"/>\n",
              "    <path d=\"M18.56 5.44l.94 2.06.94-2.06 2.06-.94-2.06-.94-.94-2.06-.94 2.06-2.06.94zm-11 1L8.5 8.5l.94-2.06 2.06-.94-2.06-.94L8.5 2.5l-.94 2.06-2.06.94zm10 10l.94 2.06.94-2.06 2.06-.94-2.06-.94-.94-2.06-.94 2.06-2.06.94z\"/><path d=\"M17.41 7.96l-1.37-1.37c-.4-.4-.92-.59-1.43-.59-.52 0-1.04.2-1.43.59L10.3 9.45l-7.72 7.72c-.78.78-.78 2.05 0 2.83L4 21.41c.39.39.9.59 1.41.59.51 0 1.02-.2 1.41-.59l7.78-7.78 2.81-2.81c.8-.78.8-2.07 0-2.86zM5.41 20L4 18.59l7.72-7.72 1.47 1.35L5.41 20z\"/>\n",
              "  </svg>\n",
              "      </button>\n",
              "      \n",
              "  <style>\n",
              "    .colab-df-container {\n",
              "      display:flex;\n",
              "      flex-wrap:wrap;\n",
              "      gap: 12px;\n",
              "    }\n",
              "\n",
              "    .colab-df-convert {\n",
              "      background-color: #E8F0FE;\n",
              "      border: none;\n",
              "      border-radius: 50%;\n",
              "      cursor: pointer;\n",
              "      display: none;\n",
              "      fill: #1967D2;\n",
              "      height: 32px;\n",
              "      padding: 0 0 0 0;\n",
              "      width: 32px;\n",
              "    }\n",
              "\n",
              "    .colab-df-convert:hover {\n",
              "      background-color: #E2EBFA;\n",
              "      box-shadow: 0px 1px 2px rgba(60, 64, 67, 0.3), 0px 1px 3px 1px rgba(60, 64, 67, 0.15);\n",
              "      fill: #174EA6;\n",
              "    }\n",
              "\n",
              "    [theme=dark] .colab-df-convert {\n",
              "      background-color: #3B4455;\n",
              "      fill: #D2E3FC;\n",
              "    }\n",
              "\n",
              "    [theme=dark] .colab-df-convert:hover {\n",
              "      background-color: #434B5C;\n",
              "      box-shadow: 0px 1px 3px 1px rgba(0, 0, 0, 0.15);\n",
              "      filter: drop-shadow(0px 1px 2px rgba(0, 0, 0, 0.3));\n",
              "      fill: #FFFFFF;\n",
              "    }\n",
              "  </style>\n",
              "\n",
              "      <script>\n",
              "        const buttonEl =\n",
              "          document.querySelector('#df-42c5cf5c-0b8f-4fd8-8763-927a189243f6 button.colab-df-convert');\n",
              "        buttonEl.style.display =\n",
              "          google.colab.kernel.accessAllowed ? 'block' : 'none';\n",
              "\n",
              "        async function convertToInteractive(key) {\n",
              "          const element = document.querySelector('#df-42c5cf5c-0b8f-4fd8-8763-927a189243f6');\n",
              "          const dataTable =\n",
              "            await google.colab.kernel.invokeFunction('convertToInteractive',\n",
              "                                                     [key], {});\n",
              "          if (!dataTable) return;\n",
              "\n",
              "          const docLinkHtml = 'Like what you see? Visit the ' +\n",
              "            '<a target=\"_blank\" href=https://colab.research.google.com/notebooks/data_table.ipynb>data table notebook</a>'\n",
              "            + ' to learn more about interactive tables.';\n",
              "          element.innerHTML = '';\n",
              "          dataTable['output_type'] = 'display_data';\n",
              "          await google.colab.output.renderOutput(dataTable, element);\n",
              "          const docLink = document.createElement('div');\n",
              "          docLink.innerHTML = docLinkHtml;\n",
              "          element.appendChild(docLink);\n",
              "        }\n",
              "      </script>\n",
              "    </div>\n",
              "  </div>\n",
              "  "
            ]
          },
          "metadata": {},
          "execution_count": 6
        }
      ]
    },
    {
      "cell_type": "markdown",
      "source": [
        "Looking at the data, its clear that things like 'day_of_week' or 'day' are not truly numerical (in the sense of a temperature or a price) but rather *categorical*. So we go ahead an declare those columns of the dataframe as such. "
      ],
      "metadata": {
        "id": "qcSZiU8jBgvH"
      }
    },
    {
      "cell_type": "code",
      "source": [
        "categorical_variables = ['month','day','hour','day_of_week','weekend']\n",
        "df[categorical_variables] = df[categorical_variables].astype('category')"
      ],
      "metadata": {
        "id": "fcjUxo8GN9Jr"
      },
      "execution_count": null,
      "outputs": []
    },
    {
      "cell_type": "code",
      "source": [
        "skim(df)"
      ],
      "metadata": {
        "colab": {
          "base_uri": "https://localhost:8080/",
          "height": 593
        },
        "id": "Y-5RA35LMvof",
        "outputId": "6e31e365-0e7c-452b-e808-fa8bdbefa759"
      },
      "execution_count": null,
      "outputs": [
        {
          "output_type": "display_data",
          "data": {
            "text/plain": [
              "╭───────────────────────────────────── skimpy summary ──────────────────────────────────────╮\n",
              "│ \u001b[3m         Data Summary         \u001b[0m \u001b[3m      Data Types       \u001b[0m \u001b[3m       Categories        \u001b[0m          │\n",
              "│ ┏━━━━━━━━━━━━━━━━━━━┳━━━━━━━━┓ ┏━━━━━━━━━━━━━┳━━━━━━━┓ ┏━━━━━━━━━━━━━━━━━━━━━━━┓          │\n",
              "│ ┃\u001b[1;36m \u001b[0m\u001b[1;36mdataframe        \u001b[0m\u001b[1;36m \u001b[0m┃\u001b[1;36m \u001b[0m\u001b[1;36mValues\u001b[0m\u001b[1;36m \u001b[0m┃ ┃\u001b[1;36m \u001b[0m\u001b[1;36mColumn Type\u001b[0m\u001b[1;36m \u001b[0m┃\u001b[1;36m \u001b[0m\u001b[1;36mCount\u001b[0m\u001b[1;36m \u001b[0m┃ ┃\u001b[1;36m \u001b[0m\u001b[1;36mCategorical Variables\u001b[0m\u001b[1;36m \u001b[0m┃          │\n",
              "│ ┡━━━━━━━━━━━━━━━━━━━╇━━━━━━━━┩ ┡━━━━━━━━━━━━━╇━━━━━━━┩ ┡━━━━━━━━━━━━━━━━━━━━━━━┩          │\n",
              "│ │ Number of rows    │ 8603   │ │ int64       │ 5     │ │ month                 │          │\n",
              "│ │ Number of columns │ 11     │ │ category    │ 5     │ │ day                   │          │\n",
              "│ └───────────────────┴────────┘ │ float64     │ 1     │ │ hour                  │          │\n",
              "│                                └─────────────┴───────┘ │ day_of_week           │          │\n",
              "│                                                        │ weekend               │          │\n",
              "│                                                        └───────────────────────┘          │\n",
              "│ \u001b[3m                                         number                                         \u001b[0m  │\n",
              "│ ┏━━━━━━━━━━━━━┳━━━━━━━━━┳━━━━━━━━━━━━┳━━━━━━━━┳━━━━━━━┳━━━━┳━━━━━┳━━━━━┳━━━━━━┳━━━━━━━━┓  │\n",
              "│ ┃\u001b[1m \u001b[0m\u001b[1m           \u001b[0m\u001b[1m \u001b[0m┃\u001b[1m \u001b[0m\u001b[1mmissing\u001b[0m\u001b[1m \u001b[0m┃\u001b[1m \u001b[0m\u001b[1mcomplete  \u001b[0m\u001b[1m \u001b[0m┃\u001b[1m \u001b[0m\u001b[1mmean  \u001b[0m\u001b[1m \u001b[0m┃\u001b[1m \u001b[0m\u001b[1msd   \u001b[0m\u001b[1m \u001b[0m┃\u001b[1m \u001b[0m\u001b[1mp0\u001b[0m\u001b[1m \u001b[0m┃\u001b[1m \u001b[0m\u001b[1mp25\u001b[0m\u001b[1m \u001b[0m┃\u001b[1m \u001b[0m\u001b[1mp75\u001b[0m\u001b[1m \u001b[0m┃\u001b[1m \u001b[0m\u001b[1mp100\u001b[0m\u001b[1m \u001b[0m┃\u001b[1m \u001b[0m\u001b[1mhist  \u001b[0m\u001b[1m \u001b[0m┃  │\n",
              "│ ┃             ┃         ┃\u001b[1m \u001b[0m\u001b[1mrate      \u001b[0m\u001b[1m \u001b[0m┃        ┃       ┃    ┃     ┃     ┃      ┃        ┃  │\n",
              "│ ┡━━━━━━━━━━━━━╇━━━━━━━━━╇━━━━━━━━━━━━╇━━━━━━━━╇━━━━━━━╇━━━━╇━━━━━╇━━━━━╇━━━━━━╇━━━━━━━━┩  │\n",
              "│ │ \u001b[38;5;141mrentals    \u001b[0m │ \u001b[36m      0\u001b[0m │ \u001b[36m         1\u001b[0m │ \u001b[36m   210\u001b[0m │ \u001b[36m  230\u001b[0m │ \u001b[36m 1\u001b[0m │ \u001b[36m 32\u001b[0m │ \u001b[36m310\u001b[0m │ \u001b[36m1300\u001b[0m │ \u001b[32m █▃▁  \u001b[0m │  │\n",
              "│ │ \u001b[38;5;141mtemp       \u001b[0m │ \u001b[36m      0\u001b[0m │ \u001b[36m         1\u001b[0m │ \u001b[36m    53\u001b[0m │ \u001b[36m   18\u001b[0m │ \u001b[36m-2\u001b[0m │ \u001b[36m 38\u001b[0m │ \u001b[36m 69\u001b[0m │ \u001b[36m  97\u001b[0m │ \u001b[32m ▂█▆▇▂\u001b[0m │  │\n",
              "│ │ \u001b[38;5;141mtemp_wb    \u001b[0m │ \u001b[36m      0\u001b[0m │ \u001b[36m         1\u001b[0m │ \u001b[36m    48\u001b[0m │ \u001b[36m   17\u001b[0m │ \u001b[36m-3\u001b[0m │ \u001b[36m 34\u001b[0m │ \u001b[36m 62\u001b[0m │ \u001b[36m  81\u001b[0m │ \u001b[32m ▂█▇█▅\u001b[0m │  │\n",
              "│ │ \u001b[38;5;141mrel_humidit\u001b[0m │ \u001b[36m      0\u001b[0m │ \u001b[36m         1\u001b[0m │ \u001b[36m    67\u001b[0m │ \u001b[36m   19\u001b[0m │ \u001b[36m16\u001b[0m │ \u001b[36m 53\u001b[0m │ \u001b[36m 84\u001b[0m │ \u001b[36m 100\u001b[0m │ \u001b[32m▁▃▇█▇▇\u001b[0m │  │\n",
              "│ │ \u001b[38;5;141my          \u001b[0m │         │            │        │       │    │     │     │      │        │  │\n",
              "│ │ \u001b[38;5;141mwindspeed  \u001b[0m │ \u001b[36m      0\u001b[0m │ \u001b[36m         1\u001b[0m │ \u001b[36m    11\u001b[0m │ \u001b[36m  5.5\u001b[0m │ \u001b[36m 0\u001b[0m │ \u001b[36m  7\u001b[0m │ \u001b[36m 14\u001b[0m │ \u001b[36m  48\u001b[0m │ \u001b[32m ▄█▂  \u001b[0m │  │\n",
              "│ │ \u001b[38;5;141mprecipitati\u001b[0m │ \u001b[36m      0\u001b[0m │ \u001b[36m         1\u001b[0m │ \u001b[36m0.0054\u001b[0m │ \u001b[36m0.034\u001b[0m │ \u001b[36m 0\u001b[0m │ \u001b[36m  0\u001b[0m │ \u001b[36m  0\u001b[0m │ \u001b[36m 1.1\u001b[0m │ \u001b[32m  █   \u001b[0m │  │\n",
              "│ │ \u001b[38;5;141mon         \u001b[0m │         │            │        │       │    │     │     │      │        │  │\n",
              "│ └─────────────┴─────────┴────────────┴────────┴───────┴────┴─────┴─────┴──────┴────────┘  │\n",
              "│ \u001b[3m                                        category                                        \u001b[0m  │\n",
              "│ ┏━━━━━━━━━━━━━━━━━━━━┳━━━━━━━━━━━━━━┳━━━━━━━━━━━━━━━━━━━━━━━┳━━━━━━━━━━━━━━┳━━━━━━━━━━━┓  │\n",
              "│ ┃\u001b[1m \u001b[0m\u001b[1m                  \u001b[0m\u001b[1m \u001b[0m┃\u001b[1m \u001b[0m\u001b[1mmissing     \u001b[0m\u001b[1m \u001b[0m┃\u001b[1m \u001b[0m\u001b[1mcomplete rate        \u001b[0m\u001b[1m \u001b[0m┃\u001b[1m \u001b[0m\u001b[1mordered     \u001b[0m\u001b[1m \u001b[0m┃\u001b[1m \u001b[0m\u001b[1munique   \u001b[0m\u001b[1m \u001b[0m┃  │\n",
              "│ ┡━━━━━━━━━━━━━━━━━━━━╇━━━━━━━━━━━━━━╇━━━━━━━━━━━━━━━━━━━━━━━╇━━━━━━━━━━━━━━╇━━━━━━━━━━━┩  │\n",
              "│ │ \u001b[38;5;141mmonth             \u001b[0m │ \u001b[36m           0\u001b[0m │ \u001b[36m                    1\u001b[0m │ \u001b[38;5;45mFalse       \u001b[0m │ \u001b[36m       12\u001b[0m │  │\n",
              "│ │ \u001b[38;5;141mday               \u001b[0m │ \u001b[36m           0\u001b[0m │ \u001b[36m                    1\u001b[0m │ \u001b[38;5;45mFalse       \u001b[0m │ \u001b[36m       31\u001b[0m │  │\n",
              "│ │ \u001b[38;5;141mhour              \u001b[0m │ \u001b[36m           0\u001b[0m │ \u001b[36m                    1\u001b[0m │ \u001b[38;5;45mFalse       \u001b[0m │ \u001b[36m       24\u001b[0m │  │\n",
              "│ │ \u001b[38;5;141mday_of_week       \u001b[0m │ \u001b[36m           0\u001b[0m │ \u001b[36m                    1\u001b[0m │ \u001b[38;5;45mFalse       \u001b[0m │ \u001b[36m        7\u001b[0m │  │\n",
              "│ │ \u001b[38;5;141mweekend           \u001b[0m │ \u001b[36m           0\u001b[0m │ \u001b[36m                    1\u001b[0m │ \u001b[38;5;45mFalse       \u001b[0m │ \u001b[36m        2\u001b[0m │  │\n",
              "│ └────────────────────┴──────────────┴───────────────────────┴──────────────┴───────────┘  │\n",
              "╰─────────────────────────────────────────── End ───────────────────────────────────────────╯\n"
            ],
            "text/html": [
              "<pre style=\"white-space:pre;overflow-x:auto;line-height:normal;font-family:Menlo,'DejaVu Sans Mono',consolas,'Courier New',monospace\">╭───────────────────────────────────── skimpy summary ──────────────────────────────────────╮\n",
              "│ <span style=\"font-style: italic\">         Data Summary         </span> <span style=\"font-style: italic\">      Data Types       </span> <span style=\"font-style: italic\">       Categories        </span>          │\n",
              "│ ┏━━━━━━━━━━━━━━━━━━━┳━━━━━━━━┓ ┏━━━━━━━━━━━━━┳━━━━━━━┓ ┏━━━━━━━━━━━━━━━━━━━━━━━┓          │\n",
              "│ ┃<span style=\"color: #008080; text-decoration-color: #008080; font-weight: bold\"> dataframe         </span>┃<span style=\"color: #008080; text-decoration-color: #008080; font-weight: bold\"> Values </span>┃ ┃<span style=\"color: #008080; text-decoration-color: #008080; font-weight: bold\"> Column Type </span>┃<span style=\"color: #008080; text-decoration-color: #008080; font-weight: bold\"> Count </span>┃ ┃<span style=\"color: #008080; text-decoration-color: #008080; font-weight: bold\"> Categorical Variables </span>┃          │\n",
              "│ ┡━━━━━━━━━━━━━━━━━━━╇━━━━━━━━┩ ┡━━━━━━━━━━━━━╇━━━━━━━┩ ┡━━━━━━━━━━━━━━━━━━━━━━━┩          │\n",
              "│ │ Number of rows    │ 8603   │ │ int64       │ 5     │ │ month                 │          │\n",
              "│ │ Number of columns │ 11     │ │ category    │ 5     │ │ day                   │          │\n",
              "│ └───────────────────┴────────┘ │ float64     │ 1     │ │ hour                  │          │\n",
              "│                                └─────────────┴───────┘ │ day_of_week           │          │\n",
              "│                                                        │ weekend               │          │\n",
              "│                                                        └───────────────────────┘          │\n",
              "│ <span style=\"font-style: italic\">                                         number                                         </span>  │\n",
              "│ ┏━━━━━━━━━━━━━┳━━━━━━━━━┳━━━━━━━━━━━━┳━━━━━━━━┳━━━━━━━┳━━━━┳━━━━━┳━━━━━┳━━━━━━┳━━━━━━━━┓  │\n",
              "│ ┃<span style=\"font-weight: bold\">             </span>┃<span style=\"font-weight: bold\"> missing </span>┃<span style=\"font-weight: bold\"> complete   </span>┃<span style=\"font-weight: bold\"> mean   </span>┃<span style=\"font-weight: bold\"> sd    </span>┃<span style=\"font-weight: bold\"> p0 </span>┃<span style=\"font-weight: bold\"> p25 </span>┃<span style=\"font-weight: bold\"> p75 </span>┃<span style=\"font-weight: bold\"> p100 </span>┃<span style=\"font-weight: bold\"> hist   </span>┃  │\n",
              "│ ┃             ┃         ┃<span style=\"font-weight: bold\"> rate       </span>┃        ┃       ┃    ┃     ┃     ┃      ┃        ┃  │\n",
              "│ ┡━━━━━━━━━━━━━╇━━━━━━━━━╇━━━━━━━━━━━━╇━━━━━━━━╇━━━━━━━╇━━━━╇━━━━━╇━━━━━╇━━━━━━╇━━━━━━━━┩  │\n",
              "│ │ <span style=\"color: #af87ff; text-decoration-color: #af87ff\">rentals    </span> │ <span style=\"color: #008080; text-decoration-color: #008080\">      0</span> │ <span style=\"color: #008080; text-decoration-color: #008080\">         1</span> │ <span style=\"color: #008080; text-decoration-color: #008080\">   210</span> │ <span style=\"color: #008080; text-decoration-color: #008080\">  230</span> │ <span style=\"color: #008080; text-decoration-color: #008080\"> 1</span> │ <span style=\"color: #008080; text-decoration-color: #008080\"> 32</span> │ <span style=\"color: #008080; text-decoration-color: #008080\">310</span> │ <span style=\"color: #008080; text-decoration-color: #008080\">1300</span> │ <span style=\"color: #008000; text-decoration-color: #008000\"> █▃▁  </span> │  │\n",
              "│ │ <span style=\"color: #af87ff; text-decoration-color: #af87ff\">temp       </span> │ <span style=\"color: #008080; text-decoration-color: #008080\">      0</span> │ <span style=\"color: #008080; text-decoration-color: #008080\">         1</span> │ <span style=\"color: #008080; text-decoration-color: #008080\">    53</span> │ <span style=\"color: #008080; text-decoration-color: #008080\">   18</span> │ <span style=\"color: #008080; text-decoration-color: #008080\">-2</span> │ <span style=\"color: #008080; text-decoration-color: #008080\"> 38</span> │ <span style=\"color: #008080; text-decoration-color: #008080\"> 69</span> │ <span style=\"color: #008080; text-decoration-color: #008080\">  97</span> │ <span style=\"color: #008000; text-decoration-color: #008000\"> ▂█▆▇▂</span> │  │\n",
              "│ │ <span style=\"color: #af87ff; text-decoration-color: #af87ff\">temp_wb    </span> │ <span style=\"color: #008080; text-decoration-color: #008080\">      0</span> │ <span style=\"color: #008080; text-decoration-color: #008080\">         1</span> │ <span style=\"color: #008080; text-decoration-color: #008080\">    48</span> │ <span style=\"color: #008080; text-decoration-color: #008080\">   17</span> │ <span style=\"color: #008080; text-decoration-color: #008080\">-3</span> │ <span style=\"color: #008080; text-decoration-color: #008080\"> 34</span> │ <span style=\"color: #008080; text-decoration-color: #008080\"> 62</span> │ <span style=\"color: #008080; text-decoration-color: #008080\">  81</span> │ <span style=\"color: #008000; text-decoration-color: #008000\"> ▂█▇█▅</span> │  │\n",
              "│ │ <span style=\"color: #af87ff; text-decoration-color: #af87ff\">rel_humidit</span> │ <span style=\"color: #008080; text-decoration-color: #008080\">      0</span> │ <span style=\"color: #008080; text-decoration-color: #008080\">         1</span> │ <span style=\"color: #008080; text-decoration-color: #008080\">    67</span> │ <span style=\"color: #008080; text-decoration-color: #008080\">   19</span> │ <span style=\"color: #008080; text-decoration-color: #008080\">16</span> │ <span style=\"color: #008080; text-decoration-color: #008080\"> 53</span> │ <span style=\"color: #008080; text-decoration-color: #008080\"> 84</span> │ <span style=\"color: #008080; text-decoration-color: #008080\"> 100</span> │ <span style=\"color: #008000; text-decoration-color: #008000\">▁▃▇█▇▇</span> │  │\n",
              "│ │ <span style=\"color: #af87ff; text-decoration-color: #af87ff\">y          </span> │         │            │        │       │    │     │     │      │        │  │\n",
              "│ │ <span style=\"color: #af87ff; text-decoration-color: #af87ff\">windspeed  </span> │ <span style=\"color: #008080; text-decoration-color: #008080\">      0</span> │ <span style=\"color: #008080; text-decoration-color: #008080\">         1</span> │ <span style=\"color: #008080; text-decoration-color: #008080\">    11</span> │ <span style=\"color: #008080; text-decoration-color: #008080\">  5.5</span> │ <span style=\"color: #008080; text-decoration-color: #008080\"> 0</span> │ <span style=\"color: #008080; text-decoration-color: #008080\">  7</span> │ <span style=\"color: #008080; text-decoration-color: #008080\"> 14</span> │ <span style=\"color: #008080; text-decoration-color: #008080\">  48</span> │ <span style=\"color: #008000; text-decoration-color: #008000\"> ▄█▂  </span> │  │\n",
              "│ │ <span style=\"color: #af87ff; text-decoration-color: #af87ff\">precipitati</span> │ <span style=\"color: #008080; text-decoration-color: #008080\">      0</span> │ <span style=\"color: #008080; text-decoration-color: #008080\">         1</span> │ <span style=\"color: #008080; text-decoration-color: #008080\">0.0054</span> │ <span style=\"color: #008080; text-decoration-color: #008080\">0.034</span> │ <span style=\"color: #008080; text-decoration-color: #008080\"> 0</span> │ <span style=\"color: #008080; text-decoration-color: #008080\">  0</span> │ <span style=\"color: #008080; text-decoration-color: #008080\">  0</span> │ <span style=\"color: #008080; text-decoration-color: #008080\"> 1.1</span> │ <span style=\"color: #008000; text-decoration-color: #008000\">  █   </span> │  │\n",
              "│ │ <span style=\"color: #af87ff; text-decoration-color: #af87ff\">on         </span> │         │            │        │       │    │     │     │      │        │  │\n",
              "│ └─────────────┴─────────┴────────────┴────────┴───────┴────┴─────┴─────┴──────┴────────┘  │\n",
              "│ <span style=\"font-style: italic\">                                        category                                        </span>  │\n",
              "│ ┏━━━━━━━━━━━━━━━━━━━━┳━━━━━━━━━━━━━━┳━━━━━━━━━━━━━━━━━━━━━━━┳━━━━━━━━━━━━━━┳━━━━━━━━━━━┓  │\n",
              "│ ┃<span style=\"font-weight: bold\">                    </span>┃<span style=\"font-weight: bold\"> missing      </span>┃<span style=\"font-weight: bold\"> complete rate         </span>┃<span style=\"font-weight: bold\"> ordered      </span>┃<span style=\"font-weight: bold\"> unique    </span>┃  │\n",
              "│ ┡━━━━━━━━━━━━━━━━━━━━╇━━━━━━━━━━━━━━╇━━━━━━━━━━━━━━━━━━━━━━━╇━━━━━━━━━━━━━━╇━━━━━━━━━━━┩  │\n",
              "│ │ <span style=\"color: #af87ff; text-decoration-color: #af87ff\">month             </span> │ <span style=\"color: #008080; text-decoration-color: #008080\">           0</span> │ <span style=\"color: #008080; text-decoration-color: #008080\">                    1</span> │ <span style=\"color: #00d7ff; text-decoration-color: #00d7ff\">False       </span> │ <span style=\"color: #008080; text-decoration-color: #008080\">       12</span> │  │\n",
              "│ │ <span style=\"color: #af87ff; text-decoration-color: #af87ff\">day               </span> │ <span style=\"color: #008080; text-decoration-color: #008080\">           0</span> │ <span style=\"color: #008080; text-decoration-color: #008080\">                    1</span> │ <span style=\"color: #00d7ff; text-decoration-color: #00d7ff\">False       </span> │ <span style=\"color: #008080; text-decoration-color: #008080\">       31</span> │  │\n",
              "│ │ <span style=\"color: #af87ff; text-decoration-color: #af87ff\">hour              </span> │ <span style=\"color: #008080; text-decoration-color: #008080\">           0</span> │ <span style=\"color: #008080; text-decoration-color: #008080\">                    1</span> │ <span style=\"color: #00d7ff; text-decoration-color: #00d7ff\">False       </span> │ <span style=\"color: #008080; text-decoration-color: #008080\">       24</span> │  │\n",
              "│ │ <span style=\"color: #af87ff; text-decoration-color: #af87ff\">day_of_week       </span> │ <span style=\"color: #008080; text-decoration-color: #008080\">           0</span> │ <span style=\"color: #008080; text-decoration-color: #008080\">                    1</span> │ <span style=\"color: #00d7ff; text-decoration-color: #00d7ff\">False       </span> │ <span style=\"color: #008080; text-decoration-color: #008080\">        7</span> │  │\n",
              "│ │ <span style=\"color: #af87ff; text-decoration-color: #af87ff\">weekend           </span> │ <span style=\"color: #008080; text-decoration-color: #008080\">           0</span> │ <span style=\"color: #008080; text-decoration-color: #008080\">                    1</span> │ <span style=\"color: #00d7ff; text-decoration-color: #00d7ff\">False       </span> │ <span style=\"color: #008080; text-decoration-color: #008080\">        2</span> │  │\n",
              "│ └────────────────────┴──────────────┴───────────────────────┴──────────────┴───────────┘  │\n",
              "╰─────────────────────────────────────────── End ───────────────────────────────────────────╯\n",
              "</pre>\n"
            ]
          },
          "metadata": {}
        }
      ]
    },
    {
      "cell_type": "markdown",
      "source": [
        "Lets produce a histogram of rentals data. We've selected bins based on what we saw of the data from the summary we gleaned using 'skim'."
      ],
      "metadata": {
        "id": "UiHUmW_PCHl7"
      }
    },
    {
      "cell_type": "code",
      "source": [
        "plt.hist(df['rentals'], bins = range(0,1400,50))\n",
        "plt.title('Rentals Data')\n",
        "plt.xlabel('Number of Rentals')\n",
        "plt.ylabel('Number of Data Points')"
      ],
      "metadata": {
        "colab": {
          "base_uri": "https://localhost:8080/",
          "height": 312
        },
        "id": "6e9rjOA2OlRa",
        "outputId": "c274a488-56bb-4eaf-884a-82891dd2ce3c"
      },
      "execution_count": null,
      "outputs": [
        {
          "output_type": "execute_result",
          "data": {
            "text/plain": [
              "Text(0, 0.5, 'Number of Data Points')"
            ]
          },
          "metadata": {},
          "execution_count": 9
        },
        {
          "output_type": "display_data",
          "data": {
            "text/plain": [
              "<Figure size 432x288 with 1 Axes>"
            ],
            "image/png": "[encoded data removed]"
          },
          "metadata": {
            "needs_background": "light"
          }
        }
      ]
    },
    {
      "cell_type": "markdown",
      "source": [
        "The mean number of rental is ~205, with a standard deviation of 227."
      ],
      "metadata": {
        "id": "vSO255NLCYIm"
      }
    },
    {
      "cell_type": "code",
      "source": [
        "print(\"Average no. of Rentals: \"+str(np.mean(df['rentals']))+\" Standard Dev: \"+str(np.std(df['rentals'])))"
      ],
      "metadata": {
        "colab": {
          "base_uri": "https://localhost:8080/"
        },
        "id": "ev1dAN3EPa7v",
        "outputId": "7f9bcc39-c48f-4726-f241-62f26fedada4"
      },
      "execution_count": null,
      "outputs": [
        {
          "output_type": "stream",
          "name": "stdout",
          "text": [
            "Average no. of Rentals: 205.08578402882716 Standard Dev: 227.03926517480508\n"
          ]
        }
      ]
    },
    {
      "cell_type": "markdown",
      "source": [
        "Next a histogram at a temp of 25F. "
      ],
      "metadata": {
        "id": "O5hDYpaNC3vx"
      }
    },
    {
      "cell_type": "code",
      "source": [
        "df_cold = df[df['temp']==25]\n",
        "plt.hist(df_cold['rentals'], bins = range(0,1400,50))\n",
        "plt.title('Rentals Data at Temp of 25F')\n",
        "plt.xlabel('Number of Rentals')\n",
        "plt.ylabel('Number of Data Points')"
      ],
      "metadata": {
        "colab": {
          "base_uri": "https://localhost:8080/",
          "height": 312
        },
        "id": "yQc_t36oQKKF",
        "outputId": "72dabf5b-9a64-4be2-f9b1-46addb74fac4"
      },
      "execution_count": null,
      "outputs": [
        {
          "output_type": "execute_result",
          "data": {
            "text/plain": [
              "Text(0, 0.5, 'Number of Data Points')"
            ]
          },
          "metadata": {},
          "execution_count": 12
        },
        {
          "output_type": "display_data",
          "data": {
            "text/plain": [
              "<Figure size 432x288 with 1 Axes>"
            ],
            "image/png": "[encoded data removed]"
          },
          "metadata": {
            "needs_background": "light"
          }
        }
      ]
    },
    {
      "cell_type": "markdown",
      "source": [
        "Standard deviation is now a lot smaller.."
      ],
      "metadata": {
        "id": "h1puDfEODBd1"
      }
    },
    {
      "cell_type": "code",
      "source": [
        "print(\"Average no. of Rentals at 25F: \"+str(np.mean(df_cold['rentals']))+\" Standard Dev: \"+str(np.std(df_cold['rentals'])))"
      ],
      "metadata": {
        "colab": {
          "base_uri": "https://localhost:8080/"
        },
        "id": "01Wpco2JCuZ-",
        "outputId": "6f71b774-a834-486d-f7fd-f3d1454a6845"
      },
      "execution_count": null,
      "outputs": [
        {
          "output_type": "stream",
          "name": "stdout",
          "text": [
            "Average no. of Rentals at 25F: 72.55384615384615 Standard Dev: 90.4802623218041\n"
          ]
        }
      ]
    },
    {
      "cell_type": "markdown",
      "source": [
        "A scatter plot of rentals across hour of rental shows that knowing the hour of rental could potentially reduce variability dramatically."
      ],
      "metadata": {
        "id": "hoVanchTDbPJ"
      }
    },
    {
      "cell_type": "code",
      "source": [
        "plt.scatter(df['hour'],df['rentals'],s=2)\n",
        "plt.title('Rentals vs. Hour of Day')\n",
        "plt.xlabel('Hour of Day')\n",
        "plt.ylabel('# Rentals')"
      ],
      "metadata": {
        "colab": {
          "base_uri": "https://localhost:8080/",
          "height": 312
        },
        "id": "b_nafBiQTVuS",
        "outputId": "e7fedc7a-d277-4521-fb18-8a9c17a55ae5"
      },
      "execution_count": null,
      "outputs": [
        {
          "output_type": "execute_result",
          "data": {
            "text/plain": [
              "Text(0, 0.5, '# Rentals')"
            ]
          },
          "metadata": {},
          "execution_count": 14
        },
        {
          "output_type": "display_data",
          "data": {
            "text/plain": [
              "<Figure size 432x288 with 1 Axes>"
            ],
            "image/png": "[encoded data removed]"
          },
          "metadata": {
            "needs_background": "light"
          }
        }
      ]
    },
    {
      "cell_type": "markdown",
      "source": [
        "Now lets take a look at rentals vs. temperature. We also look at the mean (or average) number of rentals and notice a definite straight-line like trend"
      ],
      "metadata": {
        "id": "OoL7KiXXHugh"
      }
    },
    {
      "cell_type": "code",
      "source": [
        "plt.scatter(df['temp'],df['rentals'],s=2)\n",
        "plt.title('Rentals vs. Temp (mean value in orange)')\n",
        "plt.xlabel('Temp')\n",
        "plt.ylabel('# Rentals')\n",
        "plt.scatter(df['temp'].unique(),df.groupby('temp')['rentals'].mean())"
      ],
      "metadata": {
        "colab": {
          "base_uri": "https://localhost:8080/",
          "height": 312
        },
        "id": "dd9t77RTVo-g",
        "outputId": "6802cfc0-2a9d-4b2c-ea41-c0fb0edfee59"
      },
      "execution_count": null,
      "outputs": [
        {
          "output_type": "execute_result",
          "data": {
            "text/plain": [
              "<matplotlib.collections.PathCollection at 0x7fa27872aa50>"
            ]
          },
          "metadata": {},
          "execution_count": 15
        },
        {
          "output_type": "display_data",
          "data": {
            "text/plain": [
              "<Figure size 432x288 with 1 Axes>"
            ],
            "image/png": "[encoded data removed]"
          },
          "metadata": {
            "needs_background": "light"
          }
        }
      ]
    },
    {
      "cell_type": "markdown",
      "source": [
        "The above scatter plot is the key motivation for linear regression which we will turn to next. In particular, we will run a number of regressions of the type 'rentals' vs. some other independent variable (eg. temp) that we belive to have explanatory power.  "
      ],
      "metadata": {
        "id": "70uo5euHIlBY"
      }
    },
    {
      "cell_type": "code",
      "source": [
        "est = ols(formula=\"rentals ~ temp\", data=df).fit()\n",
        "print(est.summary())"
      ],
      "metadata": {
        "colab": {
          "base_uri": "https://localhost:8080/"
        },
        "id": "n9uz3SMn8bj9",
        "outputId": "bb539b0d-a7e9-4612-c5e8-711736f04ad5"
      },
      "execution_count": null,
      "outputs": [
        {
          "output_type": "stream",
          "name": "stdout",
          "text": [
            "                            OLS Regression Results                            \n",
            "==============================================================================\n",
            "Dep. Variable:                rentals   R-squared:                       0.235\n",
            "Model:                            OLS   Adj. R-squared:                  0.235\n",
            "Method:                 Least Squares   F-statistic:                     2641.\n",
            "Date:                Sun, 15 May 2022   Prob (F-statistic):               0.00\n",
            "Time:                        19:17:29   Log-Likelihood:                -57727.\n",
            "No. Observations:                8603   AIC:                         1.155e+05\n",
            "Df Residuals:                    8601   BIC:                         1.155e+05\n",
            "Df Model:                           1                                         \n",
            "Covariance Type:            nonrobust                                         \n",
            "==============================================================================\n",
            "                 coef    std err          t      P>|t|      [0.025      0.975]\n",
            "------------------------------------------------------------------------------\n",
            "Intercept   -115.1099      6.588    -17.473      0.000    -128.024    -102.196\n",
            "temp           6.0176      0.117     51.395      0.000       5.788       6.247\n",
            "==============================================================================\n",
            "Omnibus:                     2088.128   Durbin-Watson:                   0.424\n",
            "Prob(Omnibus):                  0.000   Jarque-Bera (JB):             5175.982\n",
            "Skew:                           1.332   Prob(JB):                         0.00\n",
            "Kurtosis:                       5.709   Cond. No.                         173.\n",
            "==============================================================================\n",
            "\n",
            "Warnings:\n",
            "[1] Standard Errors assume that the covariance matrix of the errors is correctly specified.\n"
          ]
        }
      ]
    },
    {
      "cell_type": "code",
      "source": [
        "est = ols(formula=\"rentals ~ rel_humidity\", data=df).fit()\n",
        "print(est.summary())"
      ],
      "metadata": {
        "colab": {
          "base_uri": "https://localhost:8080/"
        },
        "id": "4KAIAR5j_DCm",
        "outputId": "98980a6a-e4c4-413f-fbb0-5f42b10e8eba"
      },
      "execution_count": null,
      "outputs": [
        {
          "output_type": "stream",
          "name": "stdout",
          "text": [
            "                            OLS Regression Results                            \n",
            "==============================================================================\n",
            "Dep. Variable:                rentals   R-squared:                       0.028\n",
            "Model:                            OLS   Adj. R-squared:                  0.028\n",
            "Method:                 Least Squares   F-statistic:                     249.5\n",
            "Date:                Sun, 15 May 2022   Prob (F-statistic):           1.99e-55\n",
            "Time:                        19:17:33   Log-Likelihood:                -58756.\n",
            "No. Observations:                8603   AIC:                         1.175e+05\n",
            "Df Residuals:                    8601   BIC:                         1.175e+05\n",
            "Df Model:                           1                                         \n",
            "Covariance Type:            nonrobust                                         \n",
            "================================================================================\n",
            "                   coef    std err          t      P>|t|      [0.025      0.975]\n",
            "--------------------------------------------------------------------------------\n",
            "Intercept      340.2762      8.892     38.266      0.000     322.845     357.707\n",
            "rel_humidity    -2.0146      0.128    -15.796      0.000      -2.265      -1.765\n",
            "==============================================================================\n",
            "Omnibus:                     2576.191   Durbin-Watson:                   0.336\n",
            "Prob(Omnibus):                  0.000   Jarque-Bera (JB):             6709.611\n",
            "Skew:                           1.633   Prob(JB):                         0.00\n",
            "Kurtosis:                       5.837   Cond. No.                         257.\n",
            "==============================================================================\n",
            "\n",
            "Warnings:\n",
            "[1] Standard Errors assume that the covariance matrix of the errors is correctly specified.\n"
          ]
        }
      ]
    },
    {
      "cell_type": "code",
      "source": [
        "est = ols(formula=\"rentals ~ weekend\", data=df).fit()\n",
        "print(est.summary())"
      ],
      "metadata": {
        "colab": {
          "base_uri": "https://localhost:8080/"
        },
        "id": "zZcDcPDF_PhY",
        "outputId": "f771e9db-06a9-4bd5-859e-8fddcd6f718c"
      },
      "execution_count": null,
      "outputs": [
        {
          "output_type": "stream",
          "name": "stdout",
          "text": [
            "                            OLS Regression Results                            \n",
            "==============================================================================\n",
            "Dep. Variable:                rentals   R-squared:                       0.015\n",
            "Model:                            OLS   Adj. R-squared:                  0.015\n",
            "Method:                 Least Squares   F-statistic:                     132.1\n",
            "Date:                Sun, 15 May 2022   Prob (F-statistic):           2.42e-30\n",
            "Time:                        19:17:36   Log-Likelihood:                -58814.\n",
            "No. Observations:                8603   AIC:                         1.176e+05\n",
            "Df Residuals:                    8601   BIC:                         1.176e+05\n",
            "Df Model:                           1                                         \n",
            "Covariance Type:            nonrobust                                         \n",
            "================================================================================\n",
            "                   coef    std err          t      P>|t|      [0.025      0.975]\n",
            "--------------------------------------------------------------------------------\n",
            "Intercept      222.8186      2.878     77.417      0.000     217.177     228.460\n",
            "weekend[T.1]   -61.6884      5.368    -11.492      0.000     -72.211     -51.166\n",
            "==============================================================================\n",
            "Omnibus:                     2401.797   Durbin-Watson:                   0.335\n",
            "Prob(Omnibus):                  0.000   Jarque-Bera (JB):             5705.729\n",
            "Skew:                           1.569   Prob(JB):                         0.00\n",
            "Kurtosis:                       5.464   Cond. No.                         2.43\n",
            "==============================================================================\n",
            "\n",
            "Warnings:\n",
            "[1] Standard Errors assume that the covariance matrix of the errors is correctly specified.\n"
          ]
        }
      ]
    },
    {
      "cell_type": "code",
      "source": [
        "est = ols(formula=\"rentals ~ day_of_week\", data=df).fit()\n",
        "print(est.summary())"
      ],
      "metadata": {
        "colab": {
          "base_uri": "https://localhost:8080/"
        },
        "id": "WBPXB8RM_XiR",
        "outputId": "368d2a7f-cdb3-47ce-ca15-c1b9642a1354"
      },
      "execution_count": null,
      "outputs": [
        {
          "output_type": "stream",
          "name": "stdout",
          "text": [
            "                            OLS Regression Results                            \n",
            "==============================================================================\n",
            "Dep. Variable:                rentals   R-squared:                       0.017\n",
            "Model:                            OLS   Adj. R-squared:                  0.017\n",
            "Method:                 Least Squares   F-statistic:                     25.13\n",
            "Date:                Sun, 15 May 2022   Prob (F-statistic):           9.94e-30\n",
            "Time:                        19:17:41   Log-Likelihood:                -58805.\n",
            "No. Observations:                8603   AIC:                         1.176e+05\n",
            "Df Residuals:                    8596   BIC:                         1.177e+05\n",
            "Df Model:                           6                                         \n",
            "Covariance Type:            nonrobust                                         \n",
            "======================================================================================\n",
            "                         coef    std err          t      P>|t|      [0.025      0.975]\n",
            "--------------------------------------------------------------------------------------\n",
            "Intercept            225.2480      6.441     34.970      0.000     212.622     237.874\n",
            "day_of_week[T.Mon]   -22.2210      9.040     -2.458      0.014     -39.942      -4.500\n",
            "day_of_week[T.Sat]   -57.2245      9.082     -6.301      0.000     -75.027     -39.422\n",
            "day_of_week[T.Sun]   -71.0166      9.083     -7.818      0.000     -88.822     -53.211\n",
            "day_of_week[T.Thu]     6.8572      9.119      0.752      0.452     -11.017      24.732\n",
            "day_of_week[T.Tue]    -6.3961      9.136     -0.700      0.484     -24.304      11.512\n",
            "day_of_week[T.Wed]    10.2108      9.107      1.121      0.262      -7.642      28.063\n",
            "==============================================================================\n",
            "Omnibus:                     2399.606   Durbin-Watson:                   0.335\n",
            "Prob(Omnibus):                  0.000   Jarque-Bera (JB):             5702.983\n",
            "Skew:                           1.567   Prob(JB):                         0.00\n",
            "Kurtosis:                       5.468   Cond. No.                         7.89\n",
            "==============================================================================\n",
            "\n",
            "Warnings:\n",
            "[1] Standard Errors assume that the covariance matrix of the errors is correctly specified.\n"
          ]
        }
      ]
    },
    {
      "cell_type": "markdown",
      "source": [
        "As a first step with multiple linear regression, we look for correlations between our independent variables. The reason is simple enough -- if two distinct variables are highly correlated, we may not want to include both. The reason for this is that it causes something called 'collinearity' which we will examine more carefully a bit later.  "
      ],
      "metadata": {
        "id": "kdb2jsefJRMa"
      }
    },
    {
      "cell_type": "code",
      "source": [
        "df.corr()"
      ],
      "metadata": {
        "colab": {
          "base_uri": "https://localhost:8080/",
          "height": 237
        },
        "id": "nphT_hrAAE8t",
        "outputId": "66d877a1-c8c5-4b85-aa55-543e6e26fe06"
      },
      "execution_count": null,
      "outputs": [
        {
          "output_type": "execute_result",
          "data": {
            "text/plain": [
              "                rentals      temp   temp_wb  rel_humidity  windspeed  \\\n",
              "rentals        1.000000  0.484716  0.425792     -0.167903  -0.019345   \n",
              "temp           0.484716  1.000000  0.977801      0.126377  -0.148411   \n",
              "temp_wb        0.425792  0.977801  1.000000      0.319822  -0.188347   \n",
              "rel_humidity  -0.167903  0.126377  0.319822      1.000000  -0.218430   \n",
              "windspeed     -0.019345 -0.148411 -0.188347     -0.218430   1.000000   \n",
              "precipitation -0.071619  0.018469  0.057638      0.206801   0.069177   \n",
              "\n",
              "               precipitation  \n",
              "rentals            -0.071619  \n",
              "temp                0.018469  \n",
              "temp_wb             0.057638  \n",
              "rel_humidity        0.206801  \n",
              "windspeed           0.069177  \n",
              "precipitation       1.000000  "
            ],
            "text/html": [
              "\n",
              "  <div id=\"df-2e9616af-3bcf-450a-9028-2184d04e5bb8\">\n",
              "    <div class=\"colab-df-container\">\n",
              "      <div>\n",
              "<style scoped>\n",
              "    .dataframe tbody tr th:only-of-type {\n",
              "        vertical-align: middle;\n",
              "    }\n",
              "\n",
              "    .dataframe tbody tr th {\n",
              "        vertical-align: top;\n",
              "    }\n",
              "\n",
              "    .dataframe thead th {\n",
              "        text-align: right;\n",
              "    }\n",
              "</style>\n",
              "<table border=\"1\" class=\"dataframe\">\n",
              "  <thead>\n",
              "    <tr style=\"text-align: right;\">\n",
              "      <th></th>\n",
              "      <th>rentals</th>\n",
              "      <th>temp</th>\n",
              "      <th>temp_wb</th>\n",
              "      <th>rel_humidity</th>\n",
              "      <th>windspeed</th>\n",
              "      <th>precipitation</th>\n",
              "    </tr>\n",
              "  </thead>\n",
              "  <tbody>\n",
              "    <tr>\n",
              "      <th>rentals</th>\n",
              "      <td>1.000000</td>\n",
              "      <td>0.484716</td>\n",
              "      <td>0.425792</td>\n",
              "      <td>-0.167903</td>\n",
              "      <td>-0.019345</td>\n",
              "      <td>-0.071619</td>\n",
              "    </tr>\n",
              "    <tr>\n",
              "      <th>temp</th>\n",
              "      <td>0.484716</td>\n",
              "      <td>1.000000</td>\n",
              "      <td>0.977801</td>\n",
              "      <td>0.126377</td>\n",
              "      <td>-0.148411</td>\n",
              "      <td>0.018469</td>\n",
              "    </tr>\n",
              "    <tr>\n",
              "      <th>temp_wb</th>\n",
              "      <td>0.425792</td>\n",
              "      <td>0.977801</td>\n",
              "      <td>1.000000</td>\n",
              "      <td>0.319822</td>\n",
              "      <td>-0.188347</td>\n",
              "      <td>0.057638</td>\n",
              "    </tr>\n",
              "    <tr>\n",
              "      <th>rel_humidity</th>\n",
              "      <td>-0.167903</td>\n",
              "      <td>0.126377</td>\n",
              "      <td>0.319822</td>\n",
              "      <td>1.000000</td>\n",
              "      <td>-0.218430</td>\n",
              "      <td>0.206801</td>\n",
              "    </tr>\n",
              "    <tr>\n",
              "      <th>windspeed</th>\n",
              "      <td>-0.019345</td>\n",
              "      <td>-0.148411</td>\n",
              "      <td>-0.188347</td>\n",
              "      <td>-0.218430</td>\n",
              "      <td>1.000000</td>\n",
              "      <td>0.069177</td>\n",
              "    </tr>\n",
              "    <tr>\n",
              "      <th>precipitation</th>\n",
              "      <td>-0.071619</td>\n",
              "      <td>0.018469</td>\n",
              "      <td>0.057638</td>\n",
              "      <td>0.206801</td>\n",
              "      <td>0.069177</td>\n",
              "      <td>1.000000</td>\n",
              "    </tr>\n",
              "  </tbody>\n",
              "</table>\n",
              "</div>\n",
              "      <button class=\"colab-df-convert\" onclick=\"convertToInteractive('df-2e9616af-3bcf-450a-9028-2184d04e5bb8')\"\n",
              "              title=\"Convert this dataframe to an interactive table.\"\n",
              "              style=\"display:none;\">\n",
              "        \n",
              "  <svg xmlns=\"http://www.w3.org/2000/svg\" height=\"24px\"viewBox=\"0 0 24 24\"\n",
              "       width=\"24px\">\n",
              "    <path d=\"M0 0h24v24H0V0z\" fill=\"none\"/>\n",
              "    <path d=\"M18.56 5.44l.94 2.06.94-2.06 2.06-.94-2.06-.94-.94-2.06-.94 2.06-2.06.94zm-11 1L8.5 8.5l.94-2.06 2.06-.94-2.06-.94L8.5 2.5l-.94 2.06-2.06.94zm10 10l.94 2.06.94-2.06 2.06-.94-2.06-.94-.94-2.06-.94 2.06-2.06.94z\"/><path d=\"M17.41 7.96l-1.37-1.37c-.4-.4-.92-.59-1.43-.59-.52 0-1.04.2-1.43.59L10.3 9.45l-7.72 7.72c-.78.78-.78 2.05 0 2.83L4 21.41c.39.39.9.59 1.41.59.51 0 1.02-.2 1.41-.59l7.78-7.78 2.81-2.81c.8-.78.8-2.07 0-2.86zM5.41 20L4 18.59l7.72-7.72 1.47 1.35L5.41 20z\"/>\n",
              "  </svg>\n",
              "      </button>\n",
              "      \n",
              "  <style>\n",
              "    .colab-df-container {\n",
              "      display:flex;\n",
              "      flex-wrap:wrap;\n",
              "      gap: 12px;\n",
              "    }\n",
              "\n",
              "    .colab-df-convert {\n",
              "      background-color: #E8F0FE;\n",
              "      border: none;\n",
              "      border-radius: 50%;\n",
              "      cursor: pointer;\n",
              "      display: none;\n",
              "      fill: #1967D2;\n",
              "      height: 32px;\n",
              "      padding: 0 0 0 0;\n",
              "      width: 32px;\n",
              "    }\n",
              "\n",
              "    .colab-df-convert:hover {\n",
              "      background-color: #E2EBFA;\n",
              "      box-shadow: 0px 1px 2px rgba(60, 64, 67, 0.3), 0px 1px 3px 1px rgba(60, 64, 67, 0.15);\n",
              "      fill: #174EA6;\n",
              "    }\n",
              "\n",
              "    [theme=dark] .colab-df-convert {\n",
              "      background-color: #3B4455;\n",
              "      fill: #D2E3FC;\n",
              "    }\n",
              "\n",
              "    [theme=dark] .colab-df-convert:hover {\n",
              "      background-color: #434B5C;\n",
              "      box-shadow: 0px 1px 3px 1px rgba(0, 0, 0, 0.15);\n",
              "      filter: drop-shadow(0px 1px 2px rgba(0, 0, 0, 0.3));\n",
              "      fill: #FFFFFF;\n",
              "    }\n",
              "  </style>\n",
              "\n",
              "      <script>\n",
              "        const buttonEl =\n",
              "          document.querySelector('#df-2e9616af-3bcf-450a-9028-2184d04e5bb8 button.colab-df-convert');\n",
              "        buttonEl.style.display =\n",
              "          google.colab.kernel.accessAllowed ? 'block' : 'none';\n",
              "\n",
              "        async function convertToInteractive(key) {\n",
              "          const element = document.querySelector('#df-2e9616af-3bcf-450a-9028-2184d04e5bb8');\n",
              "          const dataTable =\n",
              "            await google.colab.kernel.invokeFunction('convertToInteractive',\n",
              "                                                     [key], {});\n",
              "          if (!dataTable) return;\n",
              "\n",
              "          const docLinkHtml = 'Like what you see? Visit the ' +\n",
              "            '<a target=\"_blank\" href=https://colab.research.google.com/notebooks/data_table.ipynb>data table notebook</a>'\n",
              "            + ' to learn more about interactive tables.';\n",
              "          element.innerHTML = '';\n",
              "          dataTable['output_type'] = 'display_data';\n",
              "          await google.colab.output.renderOutput(dataTable, element);\n",
              "          const docLink = document.createElement('div');\n",
              "          docLink.innerHTML = docLinkHtml;\n",
              "          element.appendChild(docLink);\n",
              "        }\n",
              "      </script>\n",
              "    </div>\n",
              "  </div>\n",
              "  "
            ]
          },
          "metadata": {},
          "execution_count": 20
        }
      ]
    },
    {
      "cell_type": "code",
      "source": [
        "est = ols(formula=\"rentals ~ temp + rel_humidity\", data=df).fit()\n",
        "print(est.summary())"
      ],
      "metadata": {
        "colab": {
          "base_uri": "https://localhost:8080/"
        },
        "id": "FsR4KVg_ASem",
        "outputId": "39e172cf-f3ad-4673-b3a1-1f2eca4aeab3"
      },
      "execution_count": null,
      "outputs": [
        {
          "output_type": "stream",
          "name": "stdout",
          "text": [
            "                            OLS Regression Results                            \n",
            "==============================================================================\n",
            "Dep. Variable:                rentals   R-squared:                       0.288\n",
            "Model:                            OLS   Adj. R-squared:                  0.288\n",
            "Method:                 Least Squares   F-statistic:                     1742.\n",
            "Date:                Sun, 15 May 2022   Prob (F-statistic):               0.00\n",
            "Time:                        19:17:52   Log-Likelihood:                -57416.\n",
            "No. Observations:                8603   AIC:                         1.148e+05\n",
            "Df Residuals:                    8600   BIC:                         1.149e+05\n",
            "Df Model:                           2                                         \n",
            "Covariance Type:            nonrobust                                         \n",
            "================================================================================\n",
            "                   coef    std err          t      P>|t|      [0.025      0.975]\n",
            "--------------------------------------------------------------------------------\n",
            "Intercept       52.9562      9.175      5.772      0.000      34.971      70.941\n",
            "temp             6.3829      0.114     56.066      0.000       6.160       6.606\n",
            "rel_humidity    -2.7942      0.110    -25.395      0.000      -3.010      -2.579\n",
            "==============================================================================\n",
            "Omnibus:                     2380.442   Durbin-Watson:                   0.458\n",
            "Prob(Omnibus):                  0.000   Jarque-Bera (JB):             6789.829\n",
            "Skew:                           1.454   Prob(JB):                         0.00\n",
            "Kurtosis:                       6.237   Cond. No.                         391.\n",
            "==============================================================================\n",
            "\n",
            "Warnings:\n",
            "[1] Standard Errors assume that the covariance matrix of the errors is correctly specified.\n"
          ]
        }
      ]
    },
    {
      "cell_type": "markdown",
      "source": [
        "What is the standard deviation of our residuals? Our best guess is the square root of the average squared residuals. "
      ],
      "metadata": {
        "id": "WNxW0QM7cFJg"
      }
    },
    {
      "cell_type": "code",
      "source": [
        "print(np.sqrt(est.mse_resid))"
      ],
      "metadata": {
        "colab": {
          "base_uri": "https://localhost:8080/"
        },
        "id": "Cu0QYMrsas23",
        "outputId": "e4d00ddb-d754-4049-9c1e-1233cb7f6f9e"
      },
      "execution_count": null,
      "outputs": [
        {
          "output_type": "stream",
          "name": "stdout",
          "text": [
            "191.56676007313123\n"
          ]
        }
      ]
    },
    {
      "cell_type": "markdown",
      "source": [
        "So if we decided to predict the number of rentals when the temp is 60F and the relative humidity is 50%, the *point* estimate is simply"
      ],
      "metadata": {
        "id": "XlaFRh61ciGM"
      }
    },
    {
      "cell_type": "code",
      "source": [
        "print('y_pred = 52.9562 + 6.3829*60 - 2.7942*50 = ' + str(52.9562 + 6.3829*60 - 2.7942*50))"
      ],
      "metadata": {
        "colab": {
          "base_uri": "https://localhost:8080/"
        },
        "id": "gHfEsmnEcgno",
        "outputId": "f76d5ed9-1945-413e-e835-e7ee83633fcd"
      },
      "execution_count": null,
      "outputs": [
        {
          "output_type": "stream",
          "name": "stdout",
          "text": [
            "y_pred = 52.9562 + 6.3829*60 - 2.7942*50 = 296.2202\n"
          ]
        }
      ]
    },
    {
      "cell_type": "markdown",
      "source": [
        "So, a probabilistic estimate will be well modeled as a Normal random variable with mean 296.22 and standard deviation 191.63. We can now answer a question like 'What is the chance that the number of rentals exceeds 400 when the temp is 60F and the relative humidity is 50%?'. The answer: the same as the probability that a Normal random variable with mean 296.22 and standard deviation 191.63 exceeds 400!"
      ],
      "metadata": {
        "id": "L96cYqdpdPiR"
      }
    },
    {
      "cell_type": "code",
      "source": [
        "print('Probability of at least 400 rentals at 60F with 50% humidity: '+str(1-norm.cdf(400,loc=296.22,scale=191.63)))"
      ],
      "metadata": {
        "colab": {
          "base_uri": "https://localhost:8080/"
        },
        "id": "lb5f9nRHdyTU",
        "outputId": "40da77fc-7895-4a75-f0e9-b55a609f17d7"
      },
      "execution_count": null,
      "outputs": [
        {
          "output_type": "stream",
          "name": "stdout",
          "text": [
            "Probability of at least 400 rentals at 60F with 50% humidity: 0.2940592857195723\n"
          ]
        }
      ]
    },
    {
      "cell_type": "code",
      "source": [
        "est.conf_int(alpha = 0.05)"
      ],
      "metadata": {
        "id": "wTU4E2kNRwGx",
        "colab": {
          "base_uri": "https://localhost:8080/",
          "height": 143
        },
        "outputId": "8c432ceb-087a-49e1-b601-d07855274bce"
      },
      "execution_count": null,
      "outputs": [
        {
          "output_type": "execute_result",
          "data": {
            "text/plain": [
              "                      0          1\n",
              "Intercept     34.971280  70.941053\n",
              "temp           6.159768   6.606104\n",
              "rel_humidity  -3.009922  -2.578540"
            ],
            "text/html": [
              "\n",
              "  <div id=\"df-f8f9e7bb-32b9-41df-a910-286797ac86f0\">\n",
              "    <div class=\"colab-df-container\">\n",
              "      <div>\n",
              "<style scoped>\n",
              "    .dataframe tbody tr th:only-of-type {\n",
              "        vertical-align: middle;\n",
              "    }\n",
              "\n",
              "    .dataframe tbody tr th {\n",
              "        vertical-align: top;\n",
              "    }\n",
              "\n",
              "    .dataframe thead th {\n",
              "        text-align: right;\n",
              "    }\n",
              "</style>\n",
              "<table border=\"1\" class=\"dataframe\">\n",
              "  <thead>\n",
              "    <tr style=\"text-align: right;\">\n",
              "      <th></th>\n",
              "      <th>0</th>\n",
              "      <th>1</th>\n",
              "    </tr>\n",
              "  </thead>\n",
              "  <tbody>\n",
              "    <tr>\n",
              "      <th>Intercept</th>\n",
              "      <td>34.971280</td>\n",
              "      <td>70.941053</td>\n",
              "    </tr>\n",
              "    <tr>\n",
              "      <th>temp</th>\n",
              "      <td>6.159768</td>\n",
              "      <td>6.606104</td>\n",
              "    </tr>\n",
              "    <tr>\n",
              "      <th>rel_humidity</th>\n",
              "      <td>-3.009922</td>\n",
              "      <td>-2.578540</td>\n",
              "    </tr>\n",
              "  </tbody>\n",
              "</table>\n",
              "</div>\n",
              "      <button class=\"colab-df-convert\" onclick=\"convertToInteractive('df-f8f9e7bb-32b9-41df-a910-286797ac86f0')\"\n",
              "              title=\"Convert this dataframe to an interactive table.\"\n",
              "              style=\"display:none;\">\n",
              "        \n",
              "  <svg xmlns=\"http://www.w3.org/2000/svg\" height=\"24px\"viewBox=\"0 0 24 24\"\n",
              "       width=\"24px\">\n",
              "    <path d=\"M0 0h24v24H0V0z\" fill=\"none\"/>\n",
              "    <path d=\"M18.56 5.44l.94 2.06.94-2.06 2.06-.94-2.06-.94-.94-2.06-.94 2.06-2.06.94zm-11 1L8.5 8.5l.94-2.06 2.06-.94-2.06-.94L8.5 2.5l-.94 2.06-2.06.94zm10 10l.94 2.06.94-2.06 2.06-.94-2.06-.94-.94-2.06-.94 2.06-2.06.94z\"/><path d=\"M17.41 7.96l-1.37-1.37c-.4-.4-.92-.59-1.43-.59-.52 0-1.04.2-1.43.59L10.3 9.45l-7.72 7.72c-.78.78-.78 2.05 0 2.83L4 21.41c.39.39.9.59 1.41.59.51 0 1.02-.2 1.41-.59l7.78-7.78 2.81-2.81c.8-.78.8-2.07 0-2.86zM5.41 20L4 18.59l7.72-7.72 1.47 1.35L5.41 20z\"/>\n",
              "  </svg>\n",
              "      </button>\n",
              "      \n",
              "  <style>\n",
              "    .colab-df-container {\n",
              "      display:flex;\n",
              "      flex-wrap:wrap;\n",
              "      gap: 12px;\n",
              "    }\n",
              "\n",
              "    .colab-df-convert {\n",
              "      background-color: #E8F0FE;\n",
              "      border: none;\n",
              "      border-radius: 50%;\n",
              "      cursor: pointer;\n",
              "      display: none;\n",
              "      fill: #1967D2;\n",
              "      height: 32px;\n",
              "      padding: 0 0 0 0;\n",
              "      width: 32px;\n",
              "    }\n",
              "\n",
              "    .colab-df-convert:hover {\n",
              "      background-color: #E2EBFA;\n",
              "      box-shadow: 0px 1px 2px rgba(60, 64, 67, 0.3), 0px 1px 3px 1px rgba(60, 64, 67, 0.15);\n",
              "      fill: #174EA6;\n",
              "    }\n",
              "\n",
              "    [theme=dark] .colab-df-convert {\n",
              "      background-color: #3B4455;\n",
              "      fill: #D2E3FC;\n",
              "    }\n",
              "\n",
              "    [theme=dark] .colab-df-convert:hover {\n",
              "      background-color: #434B5C;\n",
              "      box-shadow: 0px 1px 3px 1px rgba(0, 0, 0, 0.15);\n",
              "      filter: drop-shadow(0px 1px 2px rgba(0, 0, 0, 0.3));\n",
              "      fill: #FFFFFF;\n",
              "    }\n",
              "  </style>\n",
              "\n",
              "      <script>\n",
              "        const buttonEl =\n",
              "          document.querySelector('#df-f8f9e7bb-32b9-41df-a910-286797ac86f0 button.colab-df-convert');\n",
              "        buttonEl.style.display =\n",
              "          google.colab.kernel.accessAllowed ? 'block' : 'none';\n",
              "\n",
              "        async function convertToInteractive(key) {\n",
              "          const element = document.querySelector('#df-f8f9e7bb-32b9-41df-a910-286797ac86f0');\n",
              "          const dataTable =\n",
              "            await google.colab.kernel.invokeFunction('convertToInteractive',\n",
              "                                                     [key], {});\n",
              "          if (!dataTable) return;\n",
              "\n",
              "          const docLinkHtml = 'Like what you see? Visit the ' +\n",
              "            '<a target=\"_blank\" href=https://colab.research.google.com/notebooks/data_table.ipynb>data table notebook</a>'\n",
              "            + ' to learn more about interactive tables.';\n",
              "          element.innerHTML = '';\n",
              "          dataTable['output_type'] = 'display_data';\n",
              "          await google.colab.output.renderOutput(dataTable, element);\n",
              "          const docLink = document.createElement('div');\n",
              "          docLink.innerHTML = docLinkHtml;\n",
              "          element.appendChild(docLink);\n",
              "        }\n",
              "      </script>\n",
              "    </div>\n",
              "  </div>\n",
              "  "
            ]
          },
          "metadata": {},
          "execution_count": 27
        }
      ]
    },
    {
      "cell_type": "code",
      "source": [
        "random_data = np.random.rand(len(df['rentals']))\n",
        "df['random'] = random_data\n",
        "df.head(6)"
      ],
      "metadata": {
        "colab": {
          "base_uri": "https://localhost:8080/",
          "height": 237
        },
        "id": "oXO1uLseViAs",
        "outputId": "c165e5e0-5b66-4f69-d2d2-f6000db0be1c"
      },
      "execution_count": null,
      "outputs": [
        {
          "output_type": "execute_result",
          "data": {
            "text/plain": [
              "   rentals month day hour day_of_week weekend  temp  temp_wb  rel_humidity  \\\n",
              "0        4     1   1    0         Mon       0     2        0            59   \n",
              "1        6     1   1    1         Mon       0     1        0            59   \n",
              "2        6     1   1    2         Mon       0     1       -1            54   \n",
              "3        1     1   1    5         Mon       0     0       -2            54   \n",
              "4        3     1   1    6         Mon       0     0       -2            54   \n",
              "5        3     1   1    7         Mon       0     0       -2            54   \n",
              "\n",
              "   windspeed  precipitation    random  \n",
              "0         16            0.0  0.977220  \n",
              "1         11            0.0  0.191003  \n",
              "2         21            0.0  0.849750  \n",
              "3         18            0.0  0.734478  \n",
              "4         15            0.0  0.966843  \n",
              "5         11            0.0  0.128064  "
            ],
            "text/html": [
              "\n",
              "  <div id=\"df-77b3b4d9-c75c-42c2-ab4c-37a0aec6f6fb\">\n",
              "    <div class=\"colab-df-container\">\n",
              "      <div>\n",
              "<style scoped>\n",
              "    .dataframe tbody tr th:only-of-type {\n",
              "        vertical-align: middle;\n",
              "    }\n",
              "\n",
              "    .dataframe tbody tr th {\n",
              "        vertical-align: top;\n",
              "    }\n",
              "\n",
              "    .dataframe thead th {\n",
              "        text-align: right;\n",
              "    }\n",
              "</style>\n",
              "<table border=\"1\" class=\"dataframe\">\n",
              "  <thead>\n",
              "    <tr style=\"text-align: right;\">\n",
              "      <th></th>\n",
              "      <th>rentals</th>\n",
              "      <th>month</th>\n",
              "      <th>day</th>\n",
              "      <th>hour</th>\n",
              "      <th>day_of_week</th>\n",
              "      <th>weekend</th>\n",
              "      <th>temp</th>\n",
              "      <th>temp_wb</th>\n",
              "      <th>rel_humidity</th>\n",
              "      <th>windspeed</th>\n",
              "      <th>precipitation</th>\n",
              "      <th>random</th>\n",
              "    </tr>\n",
              "  </thead>\n",
              "  <tbody>\n",
              "    <tr>\n",
              "      <th>0</th>\n",
              "      <td>4</td>\n",
              "      <td>1</td>\n",
              "      <td>1</td>\n",
              "      <td>0</td>\n",
              "      <td>Mon</td>\n",
              "      <td>0</td>\n",
              "      <td>2</td>\n",
              "      <td>0</td>\n",
              "      <td>59</td>\n",
              "      <td>16</td>\n",
              "      <td>0.0</td>\n",
              "      <td>0.977220</td>\n",
              "    </tr>\n",
              "    <tr>\n",
              "      <th>1</th>\n",
              "      <td>6</td>\n",
              "      <td>1</td>\n",
              "      <td>1</td>\n",
              "      <td>1</td>\n",
              "      <td>Mon</td>\n",
              "      <td>0</td>\n",
              "      <td>1</td>\n",
              "      <td>0</td>\n",
              "      <td>59</td>\n",
              "      <td>11</td>\n",
              "      <td>0.0</td>\n",
              "      <td>0.191003</td>\n",
              "    </tr>\n",
              "    <tr>\n",
              "      <th>2</th>\n",
              "      <td>6</td>\n",
              "      <td>1</td>\n",
              "      <td>1</td>\n",
              "      <td>2</td>\n",
              "      <td>Mon</td>\n",
              "      <td>0</td>\n",
              "      <td>1</td>\n",
              "      <td>-1</td>\n",
              "      <td>54</td>\n",
              "      <td>21</td>\n",
              "      <td>0.0</td>\n",
              "      <td>0.849750</td>\n",
              "    </tr>\n",
              "    <tr>\n",
              "      <th>3</th>\n",
              "      <td>1</td>\n",
              "      <td>1</td>\n",
              "      <td>1</td>\n",
              "      <td>5</td>\n",
              "      <td>Mon</td>\n",
              "      <td>0</td>\n",
              "      <td>0</td>\n",
              "      <td>-2</td>\n",
              "      <td>54</td>\n",
              "      <td>18</td>\n",
              "      <td>0.0</td>\n",
              "      <td>0.734478</td>\n",
              "    </tr>\n",
              "    <tr>\n",
              "      <th>4</th>\n",
              "      <td>3</td>\n",
              "      <td>1</td>\n",
              "      <td>1</td>\n",
              "      <td>6</td>\n",
              "      <td>Mon</td>\n",
              "      <td>0</td>\n",
              "      <td>0</td>\n",
              "      <td>-2</td>\n",
              "      <td>54</td>\n",
              "      <td>15</td>\n",
              "      <td>0.0</td>\n",
              "      <td>0.966843</td>\n",
              "    </tr>\n",
              "    <tr>\n",
              "      <th>5</th>\n",
              "      <td>3</td>\n",
              "      <td>1</td>\n",
              "      <td>1</td>\n",
              "      <td>7</td>\n",
              "      <td>Mon</td>\n",
              "      <td>0</td>\n",
              "      <td>0</td>\n",
              "      <td>-2</td>\n",
              "      <td>54</td>\n",
              "      <td>11</td>\n",
              "      <td>0.0</td>\n",
              "      <td>0.128064</td>\n",
              "    </tr>\n",
              "  </tbody>\n",
              "</table>\n",
              "</div>\n",
              "      <button class=\"colab-df-convert\" onclick=\"convertToInteractive('df-77b3b4d9-c75c-42c2-ab4c-37a0aec6f6fb')\"\n",
              "              title=\"Convert this dataframe to an interactive table.\"\n",
              "              style=\"display:none;\">\n",
              "        \n",
              "  <svg xmlns=\"http://www.w3.org/2000/svg\" height=\"24px\"viewBox=\"0 0 24 24\"\n",
              "       width=\"24px\">\n",
              "    <path d=\"M0 0h24v24H0V0z\" fill=\"none\"/>\n",
              "    <path d=\"M18.56 5.44l.94 2.06.94-2.06 2.06-.94-2.06-.94-.94-2.06-.94 2.06-2.06.94zm-11 1L8.5 8.5l.94-2.06 2.06-.94-2.06-.94L8.5 2.5l-.94 2.06-2.06.94zm10 10l.94 2.06.94-2.06 2.06-.94-2.06-.94-.94-2.06-.94 2.06-2.06.94z\"/><path d=\"M17.41 7.96l-1.37-1.37c-.4-.4-.92-.59-1.43-.59-.52 0-1.04.2-1.43.59L10.3 9.45l-7.72 7.72c-.78.78-.78 2.05 0 2.83L4 21.41c.39.39.9.59 1.41.59.51 0 1.02-.2 1.41-.59l7.78-7.78 2.81-2.81c.8-.78.8-2.07 0-2.86zM5.41 20L4 18.59l7.72-7.72 1.47 1.35L5.41 20z\"/>\n",
              "  </svg>\n",
              "      </button>\n",
              "      \n",
              "  <style>\n",
              "    .colab-df-container {\n",
              "      display:flex;\n",
              "      flex-wrap:wrap;\n",
              "      gap: 12px;\n",
              "    }\n",
              "\n",
              "    .colab-df-convert {\n",
              "      background-color: #E8F0FE;\n",
              "      border: none;\n",
              "      border-radius: 50%;\n",
              "      cursor: pointer;\n",
              "      display: none;\n",
              "      fill: #1967D2;\n",
              "      height: 32px;\n",
              "      padding: 0 0 0 0;\n",
              "      width: 32px;\n",
              "    }\n",
              "\n",
              "    .colab-df-convert:hover {\n",
              "      background-color: #E2EBFA;\n",
              "      box-shadow: 0px 1px 2px rgba(60, 64, 67, 0.3), 0px 1px 3px 1px rgba(60, 64, 67, 0.15);\n",
              "      fill: #174EA6;\n",
              "    }\n",
              "\n",
              "    [theme=dark] .colab-df-convert {\n",
              "      background-color: #3B4455;\n",
              "      fill: #D2E3FC;\n",
              "    }\n",
              "\n",
              "    [theme=dark] .colab-df-convert:hover {\n",
              "      background-color: #434B5C;\n",
              "      box-shadow: 0px 1px 3px 1px rgba(0, 0, 0, 0.15);\n",
              "      filter: drop-shadow(0px 1px 2px rgba(0, 0, 0, 0.3));\n",
              "      fill: #FFFFFF;\n",
              "    }\n",
              "  </style>\n",
              "\n",
              "      <script>\n",
              "        const buttonEl =\n",
              "          document.querySelector('#df-77b3b4d9-c75c-42c2-ab4c-37a0aec6f6fb button.colab-df-convert');\n",
              "        buttonEl.style.display =\n",
              "          google.colab.kernel.accessAllowed ? 'block' : 'none';\n",
              "\n",
              "        async function convertToInteractive(key) {\n",
              "          const element = document.querySelector('#df-77b3b4d9-c75c-42c2-ab4c-37a0aec6f6fb');\n",
              "          const dataTable =\n",
              "            await google.colab.kernel.invokeFunction('convertToInteractive',\n",
              "                                                     [key], {});\n",
              "          if (!dataTable) return;\n",
              "\n",
              "          const docLinkHtml = 'Like what you see? Visit the ' +\n",
              "            '<a target=\"_blank\" href=https://colab.research.google.com/notebooks/data_table.ipynb>data table notebook</a>'\n",
              "            + ' to learn more about interactive tables.';\n",
              "          element.innerHTML = '';\n",
              "          dataTable['output_type'] = 'display_data';\n",
              "          await google.colab.output.renderOutput(dataTable, element);\n",
              "          const docLink = document.createElement('div');\n",
              "          docLink.innerHTML = docLinkHtml;\n",
              "          element.appendChild(docLink);\n",
              "        }\n",
              "      </script>\n",
              "    </div>\n",
              "  </div>\n",
              "  "
            ]
          },
          "metadata": {},
          "execution_count": 28
        }
      ]
    },
    {
      "cell_type": "code",
      "source": [
        "df['rentals'].corr(df['random'])"
      ],
      "metadata": {
        "colab": {
          "base_uri": "https://localhost:8080/"
        },
        "id": "AOfg5Ql7WIMH",
        "outputId": "19e2d519-d855-4da3-bd9a-8ab1afda5ef7"
      },
      "execution_count": null,
      "outputs": [
        {
          "output_type": "execute_result",
          "data": {
            "text/plain": [
              "-0.0061744359767808"
            ]
          },
          "metadata": {},
          "execution_count": 29
        }
      ]
    },
    {
      "cell_type": "code",
      "source": [
        "plt.scatter(df['random'],df['rentals'],s=2)\n",
        "plt.title('Rentals vs. Random Data')\n",
        "plt.xlabel('Random')\n",
        "plt.ylabel('# Rentals')"
      ],
      "metadata": {
        "colab": {
          "base_uri": "https://localhost:8080/",
          "height": 312
        },
        "id": "TM9IQFOYWshe",
        "outputId": "0598041f-3f87-40ec-a981-bbf837c277b1"
      },
      "execution_count": null,
      "outputs": [
        {
          "output_type": "execute_result",
          "data": {
            "text/plain": [
              "Text(0, 0.5, '# Rentals')"
            ]
          },
          "metadata": {},
          "execution_count": 30
        },
        {
          "output_type": "display_data",
          "data": {
            "text/plain": [
              "<Figure size 432x288 with 1 Axes>"
            ],
            "image/png": "[encoded data removed]"
          },
          "metadata": {
            "needs_background": "light"
          }
        }
      ]
    },
    {
      "cell_type": "code",
      "source": [
        "est = ols(formula=\"rentals ~ temp + rel_humidity + random\", data=df).fit()\n",
        "print(est.summary())"
      ],
      "metadata": {
        "colab": {
          "base_uri": "https://localhost:8080/"
        },
        "id": "31ZP_9g3W8rK",
        "outputId": "52aa5102-f71d-4b43-b2df-9b197613e300"
      },
      "execution_count": null,
      "outputs": [
        {
          "output_type": "stream",
          "name": "stdout",
          "text": [
            "                            OLS Regression Results                            \n",
            "==============================================================================\n",
            "Dep. Variable:                rentals   R-squared:                       0.288\n",
            "Model:                            OLS   Adj. R-squared:                  0.288\n",
            "Method:                 Least Squares   F-statistic:                     1162.\n",
            "Date:                Thu, 05 May 2022   Prob (F-statistic):               0.00\n",
            "Time:                        15:07:12   Log-Likelihood:                -57416.\n",
            "No. Observations:                8603   AIC:                         1.148e+05\n",
            "Df Residuals:                    8599   BIC:                         1.149e+05\n",
            "Df Model:                           3                                         \n",
            "Covariance Type:            nonrobust                                         \n",
            "================================================================================\n",
            "                   coef    std err          t      P>|t|      [0.025      0.975]\n",
            "--------------------------------------------------------------------------------\n",
            "Intercept       56.9138      9.834      5.787      0.000      37.636      76.192\n",
            "temp             6.3834      0.114     56.070      0.000       6.160       6.607\n",
            "rel_humidity    -2.7946      0.110    -25.398      0.000      -3.010      -2.579\n",
            "random          -7.9961      7.155     -1.118      0.264     -22.022       6.030\n",
            "==============================================================================\n",
            "Omnibus:                     2380.176   Durbin-Watson:                   0.458\n",
            "Prob(Omnibus):                  0.000   Jarque-Bera (JB):             6787.838\n",
            "Skew:                           1.454   Prob(JB):                         0.00\n",
            "Kurtosis:                       6.237   Cond. No.                         442.\n",
            "==============================================================================\n",
            "\n",
            "Warnings:\n",
            "[1] Standard Errors assume that the covariance matrix of the errors is correctly specified.\n"
          ]
        }
      ]
    },
    {
      "cell_type": "code",
      "source": [
        "est = ols(formula=\"rentals ~ temp + rel_humidity + windspeed + precipitation\", data=df).fit()\n",
        "print(est.summary())"
      ],
      "metadata": {
        "colab": {
          "base_uri": "https://localhost:8080/"
        },
        "id": "qgv-jqrKXI9Q",
        "outputId": "c418d76d-2032-4e06-9cd0-515d65724e6b"
      },
      "execution_count": null,
      "outputs": [
        {
          "output_type": "stream",
          "name": "stdout",
          "text": [
            "                            OLS Regression Results                            \n",
            "==============================================================================\n",
            "Dep. Variable:                rentals   R-squared:                       0.290\n",
            "Model:                            OLS   Adj. R-squared:                  0.289\n",
            "Method:                 Least Squares   F-statistic:                     876.1\n",
            "Date:                Thu, 05 May 2022   Prob (F-statistic):               0.00\n",
            "Time:                        15:07:14   Log-Likelihood:                -57409.\n",
            "No. Observations:                8603   AIC:                         1.148e+05\n",
            "Df Residuals:                    8598   BIC:                         1.149e+05\n",
            "Df Model:                           4                                         \n",
            "Covariance Type:            nonrobust                                         \n",
            "=================================================================================\n",
            "                    coef    std err          t      P>|t|      [0.025      0.975]\n",
            "---------------------------------------------------------------------------------\n",
            "Intercept        40.8156     11.488      3.553      0.000      18.297      63.334\n",
            "temp              6.3960      0.115     55.782      0.000       6.171       6.621\n",
            "rel_humidity     -2.6789      0.115    -23.236      0.000      -2.905      -2.453\n",
            "windspeed         0.4503      0.394      1.144      0.253      -0.321       1.222\n",
            "precipitation  -237.9935     62.368     -3.816      0.000    -360.251    -115.736\n",
            "==============================================================================\n",
            "Omnibus:                     2370.634   Durbin-Watson:                   0.462\n",
            "Prob(Omnibus):                  0.000   Jarque-Bera (JB):             6743.262\n",
            "Skew:                           1.449   Prob(JB):                         0.00\n",
            "Kurtosis:                       6.226   Cond. No.                     2.68e+03\n",
            "==============================================================================\n",
            "\n",
            "Warnings:\n",
            "[1] Standard Errors assume that the covariance matrix of the errors is correctly specified.\n",
            "[2] The condition number is large, 2.68e+03. This might indicate that there are\n",
            "strong multicollinearity or other numerical problems.\n"
          ]
        }
      ]
    },
    {
      "cell_type": "code",
      "source": [
        "est = ols(formula=\"rentals ~ temp + rel_humidity + precipitation\", data=df).fit()\n",
        "print(est.summary())"
      ],
      "metadata": {
        "colab": {
          "base_uri": "https://localhost:8080/"
        },
        "id": "BWt11f2YXULg",
        "outputId": "cae68aac-f089-4578-c04d-644960daf93b"
      },
      "execution_count": null,
      "outputs": [
        {
          "output_type": "stream",
          "name": "stdout",
          "text": [
            "                            OLS Regression Results                            \n",
            "==============================================================================\n",
            "Dep. Variable:                rentals   R-squared:                       0.289\n",
            "Model:                            OLS   Adj. R-squared:                  0.289\n",
            "Method:                 Least Squares   F-statistic:                     1168.\n",
            "Date:                Thu, 05 May 2022   Prob (F-statistic):               0.00\n",
            "Time:                        15:07:16   Log-Likelihood:                -57410.\n",
            "No. Observations:                8603   AIC:                         1.148e+05\n",
            "Df Residuals:                    8599   BIC:                         1.149e+05\n",
            "Df Model:                           3                                         \n",
            "Covariance Type:            nonrobust                                         \n",
            "=================================================================================\n",
            "                    coef    std err          t      P>|t|      [0.025      0.975]\n",
            "---------------------------------------------------------------------------------\n",
            "Intercept        48.6214      9.242      5.261      0.000      30.504      66.739\n",
            "temp              6.3796      0.114     56.076      0.000       6.157       6.603\n",
            "rel_humidity     -2.7084      0.112    -24.104      0.000      -2.929      -2.488\n",
            "precipitation  -229.4505     61.921     -3.706      0.000    -350.831    -108.070\n",
            "==============================================================================\n",
            "Omnibus:                     2367.029   Durbin-Watson:                   0.462\n",
            "Prob(Omnibus):                  0.000   Jarque-Bera (JB):             6731.705\n",
            "Skew:                           1.447   Prob(JB):                         0.00\n",
            "Kurtosis:                       6.225   Cond. No.                     2.64e+03\n",
            "==============================================================================\n",
            "\n",
            "Warnings:\n",
            "[1] Standard Errors assume that the covariance matrix of the errors is correctly specified.\n",
            "[2] The condition number is large, 2.64e+03. This might indicate that there are\n",
            "strong multicollinearity or other numerical problems.\n"
          ]
        }
      ]
    },
    {
      "cell_type": "code",
      "source": [
        "est = ols(formula=\"rentals ~ temp + temp_wb\", data=df).fit()\n",
        "print(est.summary())"
      ],
      "metadata": {
        "colab": {
          "base_uri": "https://localhost:8080/"
        },
        "id": "5LFQsVoFXZ0Q",
        "outputId": "aff81757-0ee5-43f9-b74d-d8b07de15bf2"
      },
      "execution_count": null,
      "outputs": [
        {
          "output_type": "stream",
          "name": "stdout",
          "text": [
            "                            OLS Regression Results                            \n",
            "==============================================================================\n",
            "Dep. Variable:                rentals   R-squared:                       0.288\n",
            "Model:                            OLS   Adj. R-squared:                  0.288\n",
            "Method:                 Least Squares   F-statistic:                     1738.\n",
            "Date:                Thu, 05 May 2022   Prob (F-statistic):               0.00\n",
            "Time:                        15:19:27   Log-Likelihood:                -57420.\n",
            "No. Observations:                8603   AIC:                         1.148e+05\n",
            "Df Residuals:                    8600   BIC:                         1.149e+05\n",
            "Df Model:                           2                                         \n",
            "Covariance Type:            nonrobust                                         \n",
            "==============================================================================\n",
            "                 coef    std err          t      P>|t|      [0.025      0.975]\n",
            "------------------------------------------------------------------------------\n",
            "Intercept   -119.2405      6.359    -18.752      0.000    -131.705    -106.776\n",
            "temp          19.3338      0.539     35.858      0.000      18.277      20.391\n",
            "temp_wb      -14.7260      0.583    -25.258      0.000     -15.869     -13.583\n",
            "==============================================================================\n",
            "Omnibus:                     2473.945   Durbin-Watson:                   0.460\n",
            "Prob(Omnibus):                  0.000   Jarque-Bera (JB):             7319.712\n",
            "Skew:                           1.497   Prob(JB):                         0.00\n",
            "Kurtosis:                       6.384   Cond. No.                         233.\n",
            "==============================================================================\n",
            "\n",
            "Warnings:\n",
            "[1] Standard Errors assume that the covariance matrix of the errors is correctly specified.\n"
          ]
        }
      ]
    },
    {
      "cell_type": "markdown",
      "source": [
        "Let's split our data into a training set (70% of the data) and a test set (the remaining 30%). We will use the train_test_split utlity we imported to accomplish this. "
      ],
      "metadata": {
        "id": "hJNEZGaJRDg_"
      }
    },
    {
      "cell_type": "code",
      "source": [
        "df_train, df_test = train_test_split(df, test_size=0.3)"
      ],
      "metadata": {
        "id": "t8R6GiYIPl1K"
      },
      "execution_count": null,
      "outputs": []
    },
    {
      "cell_type": "markdown",
      "source": [
        "Let's retrain a model on just the training data: "
      ],
      "metadata": {
        "id": "F0xewe59RYfA"
      }
    },
    {
      "cell_type": "code",
      "source": [
        "est_train = ols(formula=\"rentals ~ temp + rel_humidity + precipitation\", data=df_train).fit()\n",
        "print(est_train.summary())"
      ],
      "metadata": {
        "colab": {
          "base_uri": "https://localhost:8080/"
        },
        "id": "YD7EAIE-Ps89",
        "outputId": "57a49db0-5858-40dd-beb2-7c54faa6827b"
      },
      "execution_count": null,
      "outputs": [
        {
          "output_type": "stream",
          "name": "stdout",
          "text": [
            "                            OLS Regression Results                            \n",
            "==============================================================================\n",
            "Dep. Variable:                rentals   R-squared:                       0.288\n",
            "Model:                            OLS   Adj. R-squared:                  0.288\n",
            "Method:                 Least Squares   F-statistic:                     811.9\n",
            "Date:                Sun, 15 May 2022   Prob (F-statistic):               0.00\n",
            "Time:                        20:02:55   Log-Likelihood:                -40130.\n",
            "No. Observations:                6022   AIC:                         8.027e+04\n",
            "Df Residuals:                    6018   BIC:                         8.030e+04\n",
            "Df Model:                           3                                         \n",
            "Covariance Type:            nonrobust                                         \n",
            "=================================================================================\n",
            "                    coef    std err          t      P>|t|      [0.025      0.975]\n",
            "---------------------------------------------------------------------------------\n",
            "Intercept        43.2025     10.974      3.937      0.000      21.689      64.716\n",
            "temp              6.3165      0.135     46.765      0.000       6.052       6.581\n",
            "rel_humidity     -2.6148      0.132    -19.815      0.000      -2.874      -2.356\n",
            "precipitation  -214.6069     72.467     -2.961      0.003    -356.668     -72.546\n",
            "==============================================================================\n",
            "Omnibus:                     1754.298   Durbin-Watson:                   1.984\n",
            "Prob(Omnibus):                  0.000   Jarque-Bera (JB):             5369.458\n",
            "Skew:                           1.499   Prob(JB):                         0.00\n",
            "Kurtosis:                       6.523   Cond. No.                     2.61e+03\n",
            "==============================================================================\n",
            "\n",
            "Warnings:\n",
            "[1] Standard Errors assume that the covariance matrix of the errors is correctly specified.\n",
            "[2] The condition number is large, 2.61e+03. This might indicate that there are\n",
            "strong multicollinearity or other numerical problems.\n"
          ]
        }
      ]
    },
    {
      "cell_type": "markdown",
      "source": [
        "How well does it do on the test data? Lets use the model we learned on the training data to predict rentals on the test data and then measure the OOS R^2 "
      ],
      "metadata": {
        "id": "yD0CZ2KsRfE4"
      }
    },
    {
      "cell_type": "code",
      "source": [
        "test_pred = est_train.predict(df_test)\n",
        "print('OOS R-squared: '+str(r2_score(df_test['rentals'],test_pred)))"
      ],
      "metadata": {
        "colab": {
          "base_uri": "https://localhost:8080/"
        },
        "id": "PPLSAarkQmnw",
        "outputId": "2ec8b7d0-1de3-4215-874c-93a23d1ffc2a"
      },
      "execution_count": null,
      "outputs": [
        {
          "output_type": "stream",
          "name": "stdout",
          "text": [
            "OOS R-squared: 0.29117772833855426\n"
          ]
        }
      ]
    },
    {
      "cell_type": "markdown",
      "source": [
        "### **Diabetes Dataset** "
      ],
      "metadata": {
        "id": "9W6gu69gVyI3"
      }
    },
    {
      "cell_type": "markdown",
      "source": [
        "Lets load the publicly available diabetes dataset and print out a description of the dataset"
      ],
      "metadata": {
        "id": "fxdA52IWV7pz"
      }
    },
    {
      "cell_type": "code",
      "source": [
        "diabetes = datasets.load_diabetes(as_frame=True)\n",
        "diabetes_df = diabetes['frame']"
      ],
      "metadata": {
        "id": "mZvbsHwARqb2"
      },
      "execution_count": null,
      "outputs": []
    },
    {
      "cell_type": "code",
      "source": [
        "print(diabetes['DESCR'])"
      ],
      "metadata": {
        "colab": {
          "base_uri": "https://localhost:8080/"
        },
        "id": "2-ebiPQ9VtBh",
        "outputId": "ce525bf0-0fc8-4217-eb03-76fee7d74ecc"
      },
      "execution_count": null,
      "outputs": [
        {
          "output_type": "stream",
          "name": "stdout",
          "text": [
            ".. _diabetes_dataset:\n",
            "\n",
            "Diabetes dataset\n",
            "----------------\n",
            "\n",
            "Ten baseline variables, age, sex, body mass index, average blood\n",
            "pressure, and six blood serum measurements were obtained for each of n =\n",
            "442 diabetes patients, as well as the response of interest, a\n",
            "quantitative measure of disease progression one year after baseline.\n",
            "\n",
            "**Data Set Characteristics:**\n",
            "\n",
            "  :Number of Instances: 442\n",
            "\n",
            "  :Number of Attributes: First 10 columns are numeric predictive values\n",
            "\n",
            "  :Target: Column 11 is a quantitative measure of disease progression one year after baseline\n",
            "\n",
            "  :Attribute Information:\n",
            "      - age     age in years\n",
            "      - sex\n",
            "      - bmi     body mass index\n",
            "      - bp      average blood pressure\n",
            "      - s1      tc, total serum cholesterol\n",
            "      - s2      ldl, low-density lipoproteins\n",
            "      - s3      hdl, high-density lipoproteins\n",
            "      - s4      tch, total cholesterol / HDL\n",
            "      - s5      ltg, possibly log of serum triglycerides level\n",
            "      - s6      glu, blood sugar level\n",
            "\n",
            "Note: Each of these 10 feature variables have been mean centered and scaled by the standard deviation times `n_samples` (i.e. the sum of squares of each column totals 1).\n",
            "\n",
            "Source URL:\n",
            "https://www4.stat.ncsu.edu/~boos/var.select/diabetes.html\n",
            "\n",
            "For more information see:\n",
            "Bradley Efron, Trevor Hastie, Iain Johnstone and Robert Tibshirani (2004) \"Least Angle Regression,\" Annals of Statistics (with discussion), 407-499.\n",
            "(https://web.stanford.edu/~hastie/Papers/LARS/LeastAngle_2002.pdf)\n"
          ]
        }
      ]
    },
    {
      "cell_type": "markdown",
      "source": [
        "Your task is to build the best linear regression model you can using this data to predict the 'target' field. "
      ],
      "metadata": {
        "id": "6aus4cdkWRS-"
      }
    },
    {
      "cell_type": "code",
      "source": [
        "diabetes_df.head(6)"
      ],
      "metadata": {
        "id": "JZ1WN3fgS7Jn"
      },
      "execution_count": null,
      "outputs": []
    }
  ]
}